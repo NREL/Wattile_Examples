{
 "cells": [
  {
   "cell_type": "markdown",
   "id": "a2258a8a",
   "metadata": {},
   "source": [
    "# Example Notebook"
   ]
  },
  {
   "cell_type": "code",
   "execution_count": 8,
   "id": "4866f6da",
   "metadata": {},
   "outputs": [
    {
     "name": "stdout",
     "output_type": "stream",
     "text": [
      "/Users/jsmith2/Code/@ic/Wattile_examples\n"
     ]
    }
   ],
   "source": [
    "import json\n",
    "from pathlib import Path\n",
    "import shutil\n",
    "import pandas as pd\n",
    "\n",
    "from wattile.entry_point import init_logging\n",
    "from wattile.data_reading import read_dataset_from_file\n",
    "from wattile.data_processing import prep_for_rnn\n",
    "from wattile.models import ModelFactory\n",
    "\n",
    "\n",
    "PROJECT_DIRECTORY = Path().resolve().parent\n",
    "print(PROJECT_DIRECTORY)"
   ]
  },
  {
   "cell_type": "code",
   "execution_count": 10,
   "id": "8c6e3b38",
   "metadata": {},
   "outputs": [
    {
     "data": {
      "text/plain": [
       "{'data_input': {'data_dir': '/Users/jsmith2/Code/@ic/Wattile_examples/data/Headquarters',\n",
       "  'data_config': 'Headquarters Config.json',\n",
       "  'start_time': '2022-07-01T00:00:00-06:00',\n",
       "  'end_time': '2024-07-02T00:00:00-06:00',\n",
       "  'predictor_columns': ['Richmond, VA Humidity', 'Richmond, VA Temp'],\n",
       "  'target_var': 'Headquarters ElecMeter-Main kW'},\n",
       " 'data_output': {'exp_dir': '/Users/jsmith2/Code/@ic/Wattile_examples/notebooks/examples/exp_dir',\n",
       "  'plot_comparison': True,\n",
       "  'plot_comparison_portion_start': 0.0,\n",
       "  'plot_comparison_portion_end': 1.0},\n",
       " 'data_processing': {'feat_time': {'month_of_year': [],\n",
       "   'day_of_week': ['binary_reg', 'binary_fuzzy'],\n",
       "   'hour_of_day': ['binary_reg', 'binary_fuzzy'],\n",
       "   'holidays': False},\n",
       "  'resample': {'bin_interval': '60min',\n",
       "   'bin_closed': 'left',\n",
       "   'bin_label': 'left'},\n",
       "  'feat_stats': {'active': True, 'window_width': '60min'},\n",
       "  'feat_timelag': {'lag_interval': '360min', 'lag_count': 8},\n",
       "  'input_output_window': {'window_width_source': '60min',\n",
       "   'window_width_futurecast': '0min',\n",
       "   'window_width_target': '60min'},\n",
       "  'random_seed': 382,\n",
       "  'sequential_splicer': {'active': False, 'window_width': '1W'},\n",
       "  'data_split': '80:20:0',\n",
       "  'train_size_factor': 1},\n",
       " 'learning_algorithm': {'arch_type': 'RNN',\n",
       "  'arch_version': 'alfa',\n",
       "  'arch_type_variant': 'lstm',\n",
       "  'use_case': 'train',\n",
       "  'num_epochs': 100,\n",
       "  'hidden_size': 25,\n",
       "  'num_layers': 1,\n",
       "  'quantiles': [0.05, 0.25, 0.5, 0.75, 0.95],\n",
       "  'transformation_method': 'minmaxscale',\n",
       "  'train_batch_size': 26,\n",
       "  'val_batch_size': 1,\n",
       "  'run_resume': False,\n",
       "  'optimizer_config': {'weight_decay': 0.001,\n",
       "   'base': 0.001,\n",
       "   'schedule': False,\n",
       "   'type': 'performance',\n",
       "   'factor': 0.1,\n",
       "   'min': 1e-05,\n",
       "   'patience': 30,\n",
       "   'step_size': 75},\n",
       "  'smoothing_alpha': 0.001,\n",
       "  'eval_frequency': 500,\n",
       "  'test_method': 'external'},\n",
       " 'model_registry': {'log': False,\n",
       "  'endpoint': 'http://localhost:5000',\n",
       "  'experiment_name': 'Headquarters',\n",
       "  'run_name': 'Headquarters Model Run',\n",
       "  'run_description': 'SkySpark Headquarters - Wattile example Model Run',\n",
       "  'run_tags': {'type': 'example', 'bulding': 'Headquarters'}}}"
      ]
     },
     "execution_count": 10,
     "metadata": {},
     "output_type": "execute_result"
    }
   ],
   "source": [
    "\"\"\"\n",
    "For this example, we will be using the default configs.\n",
    "Check out the docs for an explaination of each config.\n",
    "\"\"\"\n",
    "with open(PROJECT_DIRECTORY / \"data\" / \"configs\" / \"configs.json\", \"r\") as f:\n",
    "    configs = json.load(f)\n",
    "\n",
    "exp_dir = PROJECT_DIRECTORY / \"notebooks\" /  \"examples\" / \"exp_dir\"\n",
    "if exp_dir.exists():\n",
    "    shutil.rmtree(exp_dir)\n",
    "exp_dir.mkdir()\n",
    "\n",
    "configs[\"data_output\"][\"exp_dir\"] = str(exp_dir)\n",
    "configs[\"data_input\"][\"data_dir\"] = str(PROJECT_DIRECTORY / \"data\" / \"Headquarters\")\n",
    "\n",
    "configs"
   ]
  },
  {
   "cell_type": "code",
   "execution_count": 11,
   "id": "7ebc7130",
   "metadata": {},
   "outputs": [
    {
     "name": "stderr",
     "output_type": "stream",
     "text": [
      "INFO:42068:Pre-process: reading input data summary json file from /Users/jsmith2/Code/@ic/Wattile_examples/data/Headquarters/Headquarters Config.json\n",
      "INFO:42068:Read /Users/jsmith2/Code/@ic/Wattile_examples/data/Headquarters/Headquarters Predictors.csv and added to data ...\n",
      "INFO:42068:Read /Users/jsmith2/Code/@ic/Wattile_examples/data/Headquarters/Headquarters Targets.csv and added to data ...\n"
     ]
    }
   ],
   "source": [
    "\"\"\"\n",
    "Firstly, we will read the raw data from the dataset.\n",
    "Checkout the docs for an indepth explaination of necessary dataset structure.\n",
    "\"\"\"\n",
    "data = read_dataset_from_file(configs)\n"
   ]
  },
  {
   "cell_type": "code",
   "execution_count": 12,
   "id": "21a0275c",
   "metadata": {},
   "outputs": [],
   "source": [
    "\"\"\"\n",
    "Next, we call `prep_for_rnn` do preform some data preprocessing.\n",
    "\"\"\"\n",
    "train_df, val_df = prep_for_rnn(configs, data)\n"
   ]
  },
  {
   "cell_type": "code",
   "execution_count": 13,
   "id": "58b32119",
   "metadata": {},
   "outputs": [
    {
     "name": "stderr",
     "output_type": "stream",
     "text": [
      "INFO:42068:PID: 42068\n",
      "INFO:42068:Trained with Wattile version: 0.2.0\n",
      "INFO:42068:AlfaModel model created.Writing to /Users/jsmith2/Code/@ic/Wattile_examples/notebooks/examples/exp_dir.\n"
     ]
    },
    {
     "name": "stdout",
     "output_type": "stream",
     "text": [
      "Logging to: /Users/jsmith2/Code/@ic/Wattile_examples/notebooks/examples/exp_dir/output.out, PID: 42068\n",
      "Error setting tracking uri: HTTPConnectionPool(host='localhost', port=5000): Max retries exceeded with url: / (Caused by NewConnectionError('<urllib3.connection.HTTPConnection object at 0x325e781d0>: Failed to establish a new connection: [Errno 61] Connection refused'))\n"
     ]
    },
    {
     "name": "stderr",
     "output_type": "stream",
     "text": [
      "INFO:42068:Available train batch factors: [1, 3, 5, 9, 15, 45, 311, 933, 1555, 2799, 4665, 13995]Requested number of batches per epoch - Train:                 26, val: 1Actual number of batches per epoch - Train:                 15, val: 1Number of data samples in each batch - Train: 933, val: 3499\n",
      "INFO:42068:A new lstm RNN model instantiated\n",
      "INFO:42068:Number of cores available: 10\n",
      "INFO:42068:Number of logical processors available: 10\n",
      "INFO:42068:Initial memory statistics (GB): {'total': 68.719476736, 'available': 31.536267264, 'percent': 54.1, 'used': 34.684076032, 'free': 0.464453632}\n",
      "INFO:42068:Starting to train the model for 100 epochs!\n",
      "INFO:42068:Epoch: 34 Iteration: 500. Train_loss: 0.012931257486343384. val_loss: 0.01375838334079737, LR: 0.001\n"
     ]
    },
    {
     "name": "stdout",
     "output_type": "stream",
     "text": [
      "mid_train_error_stats:    pinball_loss       rmse      nmbe    cvrmse       gof        qs       ace  \\\n",
      "0      0.013758  45.103146  0.012572  0.209078  0.148107  9.788727  0.030466   \n",
      "\n",
      "           is  n_iter  epoch  \n",
      "0  144.392835     500     33  \n"
     ]
    },
    {
     "name": "stderr",
     "output_type": "stream",
     "text": [
      "INFO:42068:Epoch: 67 Iteration: 1000. Train_loss: 0.013154837302863598. val_loss: 0.013507587267183041, LR: 0.001\n"
     ]
    },
    {
     "name": "stdout",
     "output_type": "stream",
     "text": [
      "mid_train_error_stats:    pinball_loss       rmse      nmbe    cvrmse       gof        qs       ace  \\\n",
      "0      0.013758  45.103146  0.012572  0.209078  0.148107  9.788727  0.030466   \n",
      "1      0.013508  42.937817 -0.013081  0.199040  0.141046  9.610271  0.017605   \n",
      "\n",
      "           is  n_iter  epoch  \n",
      "0  144.392835     500     33  \n",
      "1  141.980393    1000     66  \n"
     ]
    },
    {
     "name": "stderr",
     "output_type": "stream",
     "text": [
      "INFO:42068:Epoch: 100 Iteration: 1500. Train_loss: 0.013682628981769085. val_loss: 0.013047871665345786, LR: 0.001\n"
     ]
    },
    {
     "name": "stdout",
     "output_type": "stream",
     "text": [
      "mid_train_error_stats:    pinball_loss       rmse      nmbe    cvrmse       gof        qs       ace  \\\n",
      "0      0.013758  45.103146  0.012572  0.209078  0.148107  9.788727  0.030466   \n",
      "1      0.013508  42.937817 -0.013081  0.199040  0.141046  9.610271  0.017605   \n",
      "2      0.013048  42.579342  0.020418  0.197378  0.140312  9.282945  0.002686   \n",
      "\n",
      "           is  n_iter  epoch  \n",
      "0  144.392835     500     33  \n",
      "1  141.980393    1000     66  \n",
      "2  137.480889    1500     99  \n",
      "saving timeseries comparison in /Users/jsmith2/Code/@ic/Wattile_examples/notebooks/examples/exp_dir/Vis_TimeseriesComparisons.svg\n"
     ]
    }
   ],
   "source": [
    "# \"\"\"\n",
    "# Finally, we are ready to train our model!\n",
    "# \"\"\"\n",
    "init_logging(local_results_dir=configs[\"data_output\"][\"exp_dir\"])\n",
    "model = ModelFactory.create_model(configs)\n",
    "model.train(train_df, val_df)"
   ]
  },
  {
   "cell_type": "code",
   "execution_count": 14,
   "id": "68e46dcc",
   "metadata": {},
   "outputs": [
    {
     "data": {
      "text/plain": [
       "'\\nSee /Users/jsmith2/Code/@ic/Wattile_examples/notebooks/examples/exp_dir for the results.\\n'"
      ]
     },
     "execution_count": 14,
     "metadata": {},
     "output_type": "execute_result"
    }
   ],
   "source": [
    "f\"\"\"\n",
    "See {exp_dir} for the results.\n",
    "\"\"\""
   ]
  }
 ],
 "metadata": {
  "kernelspec": {
   "display_name": "Python 3 (ipykernel)",
   "language": "python",
   "name": "python3"
  },
  "language_info": {
   "codemirror_mode": {
    "name": "ipython",
    "version": 3
   },
   "file_extension": ".py",
   "mimetype": "text/x-python",
   "name": "python",
   "nbconvert_exporter": "python",
   "pygments_lexer": "ipython3",
   "version": "3.12.4"
  },
  "vscode": {
   "interpreter": {
    "hash": "050b4ce936b11791d7b8f3e010d2bda88e07dbd3a9996e3c82dc775bc9b4401b"
   }
  }
 },
 "nbformat": 4,
 "nbformat_minor": 5
}

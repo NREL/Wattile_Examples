{
 "cells": [
  {
   "cell_type": "code",
   "execution_count": 20,
   "id": "59a2ce17-84cf-4614-859f-ef36af81aec1",
   "metadata": {},
   "outputs": [],
   "source": [
    "import json\n",
    "from pathlib import Path\n",
    "import shutil\n",
    "import datetime as dt\n",
    "from pprint import pprint\n",
    "\n",
    "import pandas as pd\n",
    "\n",
    "from wattile.entry_point import init_logging\n",
    "from wattile.data_reading import read_dataset_from_file\n",
    "from wattile.data_processing import prep_for_rnn\n",
    "from wattile.models import ModelFactory"
   ]
  },
  {
   "cell_type": "code",
   "execution_count": 21,
   "id": "2776d69f",
   "metadata": {},
   "outputs": [
    {
     "name": "stdout",
     "output_type": "stream",
     "text": [
      "/Users/jsmith2/Code/@ic/Wattile_examples/ex1-skyspark-demo\n"
     ]
    }
   ],
   "source": [
    "PROJECT_DIRECTORY = Path().resolve().parent\n",
    "print(PROJECT_DIRECTORY)\n",
    "\n",
    "MODEL_CONFIGS = []\n",
    "MODEL_TARGET_DIRS = []\n",
    "MODEL_NAMES = [\n",
    "    'model-1'\n",
    "]"
   ]
  },
  {
   "cell_type": "code",
   "execution_count": 22,
   "id": "932aedb2-8fa3-4436-bf83-401ecbc264ae",
   "metadata": {},
   "outputs": [],
   "source": [
    "\"\"\"\n",
    "Loads the configuration files for the models we wish to train\n",
    "\"\"\"\n",
    "\n",
    "for model in MODEL_NAMES:\n",
    "    with open(PROJECT_DIRECTORY / \"data\" / \"configs\" / f\"{model}.config.json\", \"r\") as f:\n",
    "        tmp_conf = json.load(f)\n",
    "\n",
    "    exp_dir = PROJECT_DIRECTORY /  \"models\" / model\n",
    "\n",
    "    tmp_conf[\"data_output\"][\"exp_dir\"] = str(exp_dir)\n",
    "    tmp_conf[\"data_input\"][\"data_dir\"] = str(PROJECT_DIRECTORY / \"data\" / \"Headquarters\")\n",
    "    # Be sure the model's use_case is set to 'prediction'.\n",
    "    tmp_conf[\"learning_algorithm\"][\"use_case\"] = \"prediction\"\n",
    "\n",
    "    MODEL_CONFIGS.append(tmp_conf)\n",
    "    MODEL_TARGET_DIRS.append(exp_dir)"
   ]
  },
  {
   "cell_type": "markdown",
   "id": "b09c90f0",
   "metadata": {},
   "source": [
    "## Model 1"
   ]
  },
  {
   "cell_type": "code",
   "execution_count": 23,
   "id": "8c432fdb-3888-45ea-9802-04f845a000e6",
   "metadata": {},
   "outputs": [
    {
     "name": "stdout",
     "output_type": "stream",
     "text": [
      "Logging to: /Users/jsmith2/Code/@ic/Wattile_examples/ex1-skyspark-demo/models/model-1/output.out, PID: 47909\n"
     ]
    },
    {
     "data": {
      "text/plain": [
       "<wattile.models.alfa_model.AlfaModel at 0x2a8139c40>"
      ]
     },
     "execution_count": 23,
     "metadata": {},
     "output_type": "execute_result"
    }
   ],
   "source": [
    "\"\"\"\n",
    "Init the model with it's configs. Be sure to switch it's use case to prediction.\n",
    "\"\"\"\n",
    "\n",
    "init_logging(local_results_dir=MODEL_CONFIGS[0][\"data_output\"][\"exp_dir\"])\n",
    "model = ModelFactory.create_model(MODEL_CONFIGS[0])\n",
    "\n",
    "model"
   ]
  },
  {
   "cell_type": "code",
   "execution_count": 29,
   "id": "76f9f6f5-52f7-4b7e-8a82-9af2c0580d72",
   "metadata": {},
   "outputs": [
    {
     "name": "stdout",
     "output_type": "stream",
     "text": [
      "\n",
      "    To use this model to predict Headquarters ElecMeter-Main kW for 2024-07-02 00:00:00+00:00, we will need to feed it data:\n",
      "        - starting at 2024-06-30 00:00:00+00:00\n",
      "        - ending at 2024-07-02 01:00:00+00:00\n",
      "        - a rough frequency of 60min\n",
      "        - predictors named ['Richmond, VA Humidity', 'Richmond, VA Temp']\n",
      "\n"
     ]
    }
   ],
   "source": [
    "\"\"\"\n",
    "If we want to get predictions for only one row, we have to find the time range needed to predict the nominal time.\n",
    "\n",
    "we can use `get_input_window_for_output_time` to figure this out.\n",
    "\"\"\"\n",
    "nominal_time = pd.Timestamp(year=2024, month=7, day=2, tz=dt.timezone.utc)\n",
    "\n",
    "start_time, end_time = model.get_input_window_for_output_time(nominal_time)\n",
    "freq = model.configs[\"data_processing\"][\"resample\"][\"bin_interval\"]\n",
    "inclusive = model.configs[\"data_processing\"][\"resample\"][\"bin_label\"]\n",
    "\n",
    "predictors = model.configs[\"data_input\"][\"predictor_columns\"]\n",
    "target_var = model.configs[\"data_input\"][\"target_var\"]\n",
    "\n",
    "print(f\"\"\"\n",
    "    To use this model to predict {target_var} for {nominal_time}, we will need to feed it data:\n",
    "        - starting at {start_time}\n",
    "        - ending at {end_time}\n",
    "        - a rough frequency of {freq}\n",
    "        - predictors named {predictors}\n",
    "\"\"\")"
   ]
  },
  {
   "cell_type": "code",
   "execution_count": 30,
   "id": "ae329db2-26e2-4c29-9efa-b43e98075591",
   "metadata": {},
   "outputs": [
    {
     "data": {
      "text/plain": [
       "<bound method NDFrame.head of                            Richmond, VA Humidity  Richmond, VA Temp  \\\n",
       "2024-06-30 00:00:00+00:00                      0                  0   \n",
       "2024-06-30 01:00:00+00:00                    100                100   \n",
       "2024-06-30 02:00:00+00:00                    200                200   \n",
       "2024-06-30 03:00:00+00:00                    300                300   \n",
       "2024-06-30 04:00:00+00:00                    400                400   \n",
       "2024-06-30 05:00:00+00:00                    500                500   \n",
       "2024-06-30 06:00:00+00:00                    600                600   \n",
       "2024-06-30 07:00:00+00:00                    700                700   \n",
       "2024-06-30 08:00:00+00:00                    800                800   \n",
       "2024-06-30 09:00:00+00:00                    900                900   \n",
       "2024-06-30 10:00:00+00:00                   1000               1000   \n",
       "2024-06-30 11:00:00+00:00                   1100               1100   \n",
       "2024-06-30 12:00:00+00:00                   1200               1200   \n",
       "2024-06-30 13:00:00+00:00                   1300               1300   \n",
       "2024-06-30 14:00:00+00:00                   1400               1400   \n",
       "2024-06-30 15:00:00+00:00                   1500               1500   \n",
       "2024-06-30 16:00:00+00:00                   1600               1600   \n",
       "2024-06-30 17:00:00+00:00                   1700               1700   \n",
       "2024-06-30 18:00:00+00:00                   1800               1800   \n",
       "2024-06-30 19:00:00+00:00                   1900               1900   \n",
       "2024-06-30 20:00:00+00:00                   2000               2000   \n",
       "2024-06-30 21:00:00+00:00                   2100               2100   \n",
       "2024-06-30 22:00:00+00:00                   2200               2200   \n",
       "2024-06-30 23:00:00+00:00                   2300               2300   \n",
       "2024-07-01 00:00:00+00:00                      0                  0   \n",
       "2024-07-01 01:00:00+00:00                    100                100   \n",
       "2024-07-01 02:00:00+00:00                    200                200   \n",
       "2024-07-01 03:00:00+00:00                    300                300   \n",
       "2024-07-01 04:00:00+00:00                    400                400   \n",
       "2024-07-01 05:00:00+00:00                    500                500   \n",
       "2024-07-01 06:00:00+00:00                    600                600   \n",
       "2024-07-01 07:00:00+00:00                    700                700   \n",
       "2024-07-01 08:00:00+00:00                    800                800   \n",
       "2024-07-01 09:00:00+00:00                    900                900   \n",
       "2024-07-01 10:00:00+00:00                   1000               1000   \n",
       "2024-07-01 11:00:00+00:00                   1100               1100   \n",
       "2024-07-01 12:00:00+00:00                   1200               1200   \n",
       "2024-07-01 13:00:00+00:00                   1300               1300   \n",
       "2024-07-01 14:00:00+00:00                   1400               1400   \n",
       "2024-07-01 15:00:00+00:00                   1500               1500   \n",
       "2024-07-01 16:00:00+00:00                   1600               1600   \n",
       "2024-07-01 17:00:00+00:00                   1700               1700   \n",
       "2024-07-01 18:00:00+00:00                   1800               1800   \n",
       "2024-07-01 19:00:00+00:00                   1900               1900   \n",
       "2024-07-01 20:00:00+00:00                   2000               2000   \n",
       "2024-07-01 21:00:00+00:00                   2100               2100   \n",
       "2024-07-01 22:00:00+00:00                   2200               2200   \n",
       "2024-07-01 23:00:00+00:00                   2300               2300   \n",
       "2024-07-02 00:00:00+00:00                      0                  0   \n",
       "\n",
       "                           Headquarters ElecMeter-Main kW  \n",
       "2024-06-30 00:00:00+00:00                               0  \n",
       "2024-06-30 01:00:00+00:00                             100  \n",
       "2024-06-30 02:00:00+00:00                             200  \n",
       "2024-06-30 03:00:00+00:00                             300  \n",
       "2024-06-30 04:00:00+00:00                             400  \n",
       "2024-06-30 05:00:00+00:00                             500  \n",
       "2024-06-30 06:00:00+00:00                             600  \n",
       "2024-06-30 07:00:00+00:00                             700  \n",
       "2024-06-30 08:00:00+00:00                             800  \n",
       "2024-06-30 09:00:00+00:00                             900  \n",
       "2024-06-30 10:00:00+00:00                            1000  \n",
       "2024-06-30 11:00:00+00:00                            1100  \n",
       "2024-06-30 12:00:00+00:00                            1200  \n",
       "2024-06-30 13:00:00+00:00                            1300  \n",
       "2024-06-30 14:00:00+00:00                            1400  \n",
       "2024-06-30 15:00:00+00:00                            1500  \n",
       "2024-06-30 16:00:00+00:00                            1600  \n",
       "2024-06-30 17:00:00+00:00                            1700  \n",
       "2024-06-30 18:00:00+00:00                            1800  \n",
       "2024-06-30 19:00:00+00:00                            1900  \n",
       "2024-06-30 20:00:00+00:00                            2000  \n",
       "2024-06-30 21:00:00+00:00                            2100  \n",
       "2024-06-30 22:00:00+00:00                            2200  \n",
       "2024-06-30 23:00:00+00:00                            2300  \n",
       "2024-07-01 00:00:00+00:00                               0  \n",
       "2024-07-01 01:00:00+00:00                             100  \n",
       "2024-07-01 02:00:00+00:00                             200  \n",
       "2024-07-01 03:00:00+00:00                             300  \n",
       "2024-07-01 04:00:00+00:00                             400  \n",
       "2024-07-01 05:00:00+00:00                             500  \n",
       "2024-07-01 06:00:00+00:00                             600  \n",
       "2024-07-01 07:00:00+00:00                             700  \n",
       "2024-07-01 08:00:00+00:00                             800  \n",
       "2024-07-01 09:00:00+00:00                             900  \n",
       "2024-07-01 10:00:00+00:00                            1000  \n",
       "2024-07-01 11:00:00+00:00                            1100  \n",
       "2024-07-01 12:00:00+00:00                            1200  \n",
       "2024-07-01 13:00:00+00:00                            1300  \n",
       "2024-07-01 14:00:00+00:00                            1400  \n",
       "2024-07-01 15:00:00+00:00                            1500  \n",
       "2024-07-01 16:00:00+00:00                            1600  \n",
       "2024-07-01 17:00:00+00:00                            1700  \n",
       "2024-07-01 18:00:00+00:00                            1800  \n",
       "2024-07-01 19:00:00+00:00                            1900  \n",
       "2024-07-01 20:00:00+00:00                            2000  \n",
       "2024-07-01 21:00:00+00:00                            2100  \n",
       "2024-07-01 22:00:00+00:00                            2200  \n",
       "2024-07-01 23:00:00+00:00                            2300  \n",
       "2024-07-02 00:00:00+00:00                               0  >"
      ]
     },
     "execution_count": 30,
     "metadata": {},
     "output_type": "execute_result"
    }
   ],
   "source": [
    "\"\"\"\n",
    "Great, now lets make some dummy data that matches those specs.\n",
    "\"\"\"\n",
    "\n",
    "data = pd.DataFrame(index=pd.date_range(start_time, end_time, freq=freq, inclusive=inclusive))\n",
    "for predictor in predictors:\n",
    "    data[predictor] = data.index.hour * 100 + data.index.minute\n",
    "\n",
    "# even though we are predicting, we must fill the target column with dummy data. It's not used though.\n",
    "data[target_var] = data.index.hour * 100 + data.index.minute\n",
    "\n",
    "\n",
    "data.head"
   ]
  },
  {
   "cell_type": "code",
   "execution_count": 31,
   "id": "9decc834-e3ae-4abb-b0e2-7e7faf8c21b8",
   "metadata": {},
   "outputs": [
    {
     "data": {
      "text/html": [
       "<div>\n",
       "<style scoped>\n",
       "    .dataframe tbody tr th:only-of-type {\n",
       "        vertical-align: middle;\n",
       "    }\n",
       "\n",
       "    .dataframe tbody tr th {\n",
       "        vertical-align: top;\n",
       "    }\n",
       "\n",
       "    .dataframe thead th {\n",
       "        text-align: right;\n",
       "    }\n",
       "</style>\n",
       "<table border=\"1\" class=\"dataframe\">\n",
       "  <thead>\n",
       "    <tr style=\"text-align: right;\">\n",
       "      <th></th>\n",
       "      <th>Richmond, VA Humidity_min_lag8</th>\n",
       "      <th>Richmond, VA Temp_min_lag8</th>\n",
       "      <th>sin_HOD_min_lag8</th>\n",
       "      <th>cos_HOD_min_lag8</th>\n",
       "      <th>DOW_binary_reg_0_min_lag8</th>\n",
       "      <th>DOW_binary_reg_1_min_lag8</th>\n",
       "      <th>DOW_binary_reg_2_min_lag8</th>\n",
       "      <th>DOW_binary_reg_3_min_lag8</th>\n",
       "      <th>DOW_binary_reg_4_min_lag8</th>\n",
       "      <th>DOW_binary_reg_5_min_lag8</th>\n",
       "      <th>...</th>\n",
       "      <th>DOW_binary_reg_0_mean</th>\n",
       "      <th>DOW_binary_reg_1_mean</th>\n",
       "      <th>DOW_binary_reg_2_mean</th>\n",
       "      <th>DOW_binary_reg_3_mean</th>\n",
       "      <th>DOW_binary_reg_4_mean</th>\n",
       "      <th>DOW_binary_reg_5_mean</th>\n",
       "      <th>DOW_binary_reg_6_mean</th>\n",
       "      <th>sin_MOY_mean</th>\n",
       "      <th>cos_MOY_mean</th>\n",
       "      <th>Headquarters ElecMeter-Main kW</th>\n",
       "    </tr>\n",
       "  </thead>\n",
       "  <tbody>\n",
       "    <tr>\n",
       "      <th>2024-07-02 00:00:00+00:00</th>\n",
       "      <td>0.0</td>\n",
       "      <td>0.0</td>\n",
       "      <td>0.0</td>\n",
       "      <td>1.0</td>\n",
       "      <td>0.0</td>\n",
       "      <td>0.0</td>\n",
       "      <td>0.0</td>\n",
       "      <td>0.0</td>\n",
       "      <td>0.0</td>\n",
       "      <td>0.0</td>\n",
       "      <td>...</td>\n",
       "      <td>0.0</td>\n",
       "      <td>1.0</td>\n",
       "      <td>0.0</td>\n",
       "      <td>0.0</td>\n",
       "      <td>0.0</td>\n",
       "      <td>0.0</td>\n",
       "      <td>0.0</td>\n",
       "      <td>-0.025818</td>\n",
       "      <td>-0.999667</td>\n",
       "      <td>0</td>\n",
       "    </tr>\n",
       "  </tbody>\n",
       "</table>\n",
       "<p>1 rows × 352 columns</p>\n",
       "</div>"
      ],
      "text/plain": [
       "                           Richmond, VA Humidity_min_lag8  \\\n",
       "2024-07-02 00:00:00+00:00                             0.0   \n",
       "\n",
       "                           Richmond, VA Temp_min_lag8  sin_HOD_min_lag8  \\\n",
       "2024-07-02 00:00:00+00:00                         0.0               0.0   \n",
       "\n",
       "                           cos_HOD_min_lag8  DOW_binary_reg_0_min_lag8  \\\n",
       "2024-07-02 00:00:00+00:00               1.0                        0.0   \n",
       "\n",
       "                           DOW_binary_reg_1_min_lag8  \\\n",
       "2024-07-02 00:00:00+00:00                        0.0   \n",
       "\n",
       "                           DOW_binary_reg_2_min_lag8  \\\n",
       "2024-07-02 00:00:00+00:00                        0.0   \n",
       "\n",
       "                           DOW_binary_reg_3_min_lag8  \\\n",
       "2024-07-02 00:00:00+00:00                        0.0   \n",
       "\n",
       "                           DOW_binary_reg_4_min_lag8  \\\n",
       "2024-07-02 00:00:00+00:00                        0.0   \n",
       "\n",
       "                           DOW_binary_reg_5_min_lag8  ...  \\\n",
       "2024-07-02 00:00:00+00:00                        0.0  ...   \n",
       "\n",
       "                           DOW_binary_reg_0_mean  DOW_binary_reg_1_mean  \\\n",
       "2024-07-02 00:00:00+00:00                    0.0                    1.0   \n",
       "\n",
       "                           DOW_binary_reg_2_mean  DOW_binary_reg_3_mean  \\\n",
       "2024-07-02 00:00:00+00:00                    0.0                    0.0   \n",
       "\n",
       "                           DOW_binary_reg_4_mean  DOW_binary_reg_5_mean  \\\n",
       "2024-07-02 00:00:00+00:00                    0.0                    0.0   \n",
       "\n",
       "                           DOW_binary_reg_6_mean  sin_MOY_mean  cos_MOY_mean  \\\n",
       "2024-07-02 00:00:00+00:00                    0.0     -0.025818     -0.999667   \n",
       "\n",
       "                           Headquarters ElecMeter-Main kW  \n",
       "2024-07-02 00:00:00+00:00                               0  \n",
       "\n",
       "[1 rows x 352 columns]"
      ]
     },
     "execution_count": 31,
     "metadata": {},
     "output_type": "execute_result"
    }
   ],
   "source": [
    "\"\"\"\n",
    "Let's prep those for the model.\n",
    "\"\"\"\n",
    "train_df, val_df = prep_for_rnn(MODEL_CONFIGS[0], data)\n",
    "val_df"
   ]
  },
  {
   "cell_type": "code",
   "execution_count": 32,
   "id": "b43ea0ab-8199-411a-8b2c-a9baeb193ba8",
   "metadata": {},
   "outputs": [
    {
     "ename": "FileNotFoundError",
     "evalue": "[Errno 2] No such file or directory: '/Users/jsmith2/Code/@ic/Wattile_examples/ex1-skyspark-demo/models/model-1/train_stats.json'",
     "output_type": "error",
     "traceback": [
      "\u001b[0;31m---------------------------------------------------------------------------\u001b[0m",
      "\u001b[0;31mFileNotFoundError\u001b[0m                         Traceback (most recent call last)",
      "Cell \u001b[0;32mIn[32], line 4\u001b[0m\n\u001b[1;32m      1\u001b[0m \u001b[38;5;124;03m\"\"\"\u001b[39;00m\n\u001b[1;32m      2\u001b[0m \u001b[38;5;124;03mOne line in, one prediction (with many quantiles) out.\u001b[39;00m\n\u001b[1;32m      3\u001b[0m \u001b[38;5;124;03m\"\"\"\u001b[39;00m\n\u001b[0;32m----> 4\u001b[0m results \u001b[38;5;241m=\u001b[39m \u001b[43mmodel\u001b[49m\u001b[38;5;241;43m.\u001b[39;49m\u001b[43mpredict\u001b[49m\u001b[43m(\u001b[49m\u001b[43mval_df\u001b[49m\u001b[43m)\u001b[49m\n\u001b[1;32m      6\u001b[0m results\n",
      "File \u001b[0;32m~/Code/@ic/Wattile/wattile/models/base_model.py:202\u001b[0m, in \u001b[0;36mBaseModel.predict\u001b[0;34m(self, val_df)\u001b[0m\n\u001b[1;32m    201\u001b[0m \u001b[38;5;28;01mdef\u001b[39;00m \u001b[38;5;21mpredict\u001b[39m(\u001b[38;5;28mself\u001b[39m, val_df: pd\u001b[38;5;241m.\u001b[39mDataFrame) \u001b[38;5;241m-\u001b[39m\u001b[38;5;241m>\u001b[39m \u001b[38;5;28;01mNone\u001b[39;00m:\n\u001b[0;32m--> 202\u001b[0m     val_data \u001b[38;5;241m=\u001b[39m \u001b[38;5;28;43mself\u001b[39;49m\u001b[38;5;241;43m.\u001b[39;49m\u001b[43mapply_normalization\u001b[49m\u001b[43m(\u001b[49m\u001b[43mval_df\u001b[49m\u001b[38;5;241;43m.\u001b[39;49m\u001b[43mcopy\u001b[49m\u001b[43m(\u001b[49m\u001b[43m)\u001b[49m\u001b[43m)\u001b[49m\n\u001b[1;32m    204\u001b[0m     \u001b[38;5;66;03m# only 1 batch during prediction\u001b[39;00m\n\u001b[1;32m    205\u001b[0m     val_loader \u001b[38;5;241m=\u001b[39m \u001b[38;5;28mself\u001b[39m\u001b[38;5;241m.\u001b[39mto_data_loader(\n\u001b[1;32m    206\u001b[0m         val_data, batch_size\u001b[38;5;241m=\u001b[39mval_data\u001b[38;5;241m.\u001b[39mshape[\u001b[38;5;241m0\u001b[39m], shuffle\u001b[38;5;241m=\u001b[39m\u001b[38;5;28;01mFalse\u001b[39;00m\n\u001b[1;32m    207\u001b[0m     )\n",
      "File \u001b[0;32m~/Code/@ic/Wattile/wattile/models/base_model.py:107\u001b[0m, in \u001b[0;36mBaseModel.apply_normalization\u001b[0;34m(self, data)\u001b[0m\n\u001b[1;32m     97\u001b[0m \u001b[38;5;250m\u001b[39m\u001b[38;5;124;03m\"\"\"Apply normalization to data using the train stats on disk and the transformation_method\u001b[39;00m\n\u001b[1;32m     98\u001b[0m \u001b[38;5;124;03min the configs\u001b[39;00m\n\u001b[1;32m     99\u001b[0m \n\u001b[0;32m   (...)\u001b[0m\n\u001b[1;32m    104\u001b[0m \u001b[38;5;124;03m:rtype: pd.DataFrame\u001b[39;00m\n\u001b[1;32m    105\u001b[0m \u001b[38;5;124;03m\"\"\"\u001b[39;00m\n\u001b[1;32m    106\u001b[0m train_stats_path \u001b[38;5;241m=\u001b[39m \u001b[38;5;28mself\u001b[39m\u001b[38;5;241m.\u001b[39mfile_prefix \u001b[38;5;241m/\u001b[39m \u001b[38;5;124m\"\u001b[39m\u001b[38;5;124mtrain_stats.json\u001b[39m\u001b[38;5;124m\"\u001b[39m\n\u001b[0;32m--> 107\u001b[0m \u001b[38;5;28;01mwith\u001b[39;00m \u001b[38;5;28;43mopen\u001b[39;49m\u001b[43m(\u001b[49m\u001b[43mtrain_stats_path\u001b[49m\u001b[43m,\u001b[49m\u001b[43m \u001b[49m\u001b[38;5;124;43m\"\u001b[39;49m\u001b[38;5;124;43mr\u001b[39;49m\u001b[38;5;124;43m\"\u001b[39;49m\u001b[43m)\u001b[49m \u001b[38;5;28;01mas\u001b[39;00m f:\n\u001b[1;32m    108\u001b[0m     train_stats \u001b[38;5;241m=\u001b[39m json\u001b[38;5;241m.\u001b[39mload(f)\n\u001b[1;32m    110\u001b[0m transformation_method \u001b[38;5;241m=\u001b[39m \u001b[38;5;28mself\u001b[39m\u001b[38;5;241m.\u001b[39mconfigs[\u001b[38;5;124m\"\u001b[39m\u001b[38;5;124mlearning_algorithm\u001b[39m\u001b[38;5;124m\"\u001b[39m][\n\u001b[1;32m    111\u001b[0m     \u001b[38;5;124m\"\u001b[39m\u001b[38;5;124mtransformation_method\u001b[39m\u001b[38;5;124m\"\u001b[39m\n\u001b[1;32m    112\u001b[0m ]\n",
      "\u001b[0;31mFileNotFoundError\u001b[0m: [Errno 2] No such file or directory: '/Users/jsmith2/Code/@ic/Wattile_examples/ex1-skyspark-demo/models/model-1/train_stats.json'"
     ]
    }
   ],
   "source": [
    "\"\"\"\n",
    "One line in, one prediction (with many quantiles) out.\n",
    "\"\"\"\n",
    "results = model.predict(val_df)\n",
    "\n",
    "results"
   ]
  },
  {
   "cell_type": "code",
   "execution_count": null,
   "id": "70eace15-c5d7-45bb-b622-3a488617702d",
   "metadata": {},
   "outputs": [],
   "source": []
  }
 ],
 "metadata": {
  "kernelspec": {
   "display_name": "Python 3 (ipykernel)",
   "language": "python",
   "name": "python3"
  },
  "language_info": {
   "codemirror_mode": {
    "name": "ipython",
    "version": 3
   },
   "file_extension": ".py",
   "mimetype": "text/x-python",
   "name": "python",
   "nbconvert_exporter": "python",
   "pygments_lexer": "ipython3",
   "version": "3.12.4"
  }
 },
 "nbformat": 4,
 "nbformat_minor": 5
}

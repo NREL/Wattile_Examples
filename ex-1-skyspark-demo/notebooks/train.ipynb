{
 "cells": [
  {
   "cell_type": "markdown",
   "id": "a2258a8a",
   "metadata": {},
   "source": [
    "# Example 1 - Skyspark Demo"
   ]
  },
  {
   "cell_type": "code",
   "execution_count": 12,
   "id": "4866f6da",
   "metadata": {},
   "outputs": [],
   "source": [
    "import json\n",
    "from pathlib import Path\n",
    "import shutil\n",
    "import pandas as pd\n",
    "\n",
    "from wattile.entry_point import init_logging\n",
    "from wattile.data_reading import read_dataset_from_file\n",
    "from wattile.data_processing import prep_for_rnn\n",
    "from wattile.models import ModelFactory"
   ]
  },
  {
   "cell_type": "code",
   "execution_count": 13,
   "id": "4b05dbe8",
   "metadata": {},
   "outputs": [
    {
     "name": "stdout",
     "output_type": "stream",
     "text": [
      "/Users/jsmith2/Code/@ic/Wattile_examples/ex-1-skyspark-demo\n"
     ]
    }
   ],
   "source": [
    "PROJECT_DIRECTORY = Path().resolve().parent\n",
    "print(PROJECT_DIRECTORY)\n",
    "\n",
    "MODEL_CONFIGS = []\n",
    "MODEL_TARGET_DIRS = []\n",
    "MODEL_NAMES = [\n",
    "    'headquarters-electricity'\n",
    "]\n"
   ]
  },
  {
   "cell_type": "code",
   "execution_count": 14,
   "id": "8c6e3b38",
   "metadata": {},
   "outputs": [],
   "source": [
    "\"\"\"\n",
    "Loads the configuration files for the models we wish to train\n",
    "\"\"\"\n",
    "\n",
    "for model in MODEL_NAMES:\n",
    "    with open(PROJECT_DIRECTORY / \"data\" / \"configs\" / f\"{model}.config.json\", \"r\") as f:\n",
    "        tmp_conf = json.load(f)\n",
    "\n",
    "    exp_dir = PROJECT_DIRECTORY /  \"models\" / model\n",
    "    if exp_dir.exists():\n",
    "        shutil.rmtree(exp_dir)\n",
    "    exp_dir.mkdir()\n",
    "\n",
    "    tmp_conf[\"data_output\"][\"exp_dir\"] = str(exp_dir)\n",
    "    tmp_conf[\"data_input\"][\"data_dir\"] = str(PROJECT_DIRECTORY / \"data\" / \"Headquarters\")\n",
    "\n",
    "    MODEL_CONFIGS.append(tmp_conf)\n",
    "    MODEL_TARGET_DIRS.append(exp_dir)"
   ]
  },
  {
   "cell_type": "markdown",
   "id": "cf282d4f",
   "metadata": {},
   "source": [
    "## Headquarters Electricity\n"
   ]
  },
  {
   "cell_type": "code",
   "execution_count": 15,
   "id": "7ebc7130",
   "metadata": {},
   "outputs": [],
   "source": [
    "data = read_dataset_from_file(MODEL_CONFIGS[0])\n",
    "train_df, val_df = prep_for_rnn(MODEL_CONFIGS[0], data)"
   ]
  },
  {
   "cell_type": "code",
   "execution_count": 16,
   "id": "909c00e4",
   "metadata": {},
   "outputs": [
    {
     "name": "stdout",
     "output_type": "stream",
     "text": [
      "Logging to: /Users/jsmith2/Code/@ic/Wattile_examples/ex-1-skyspark-demo/models/headquarters-electricity/output.out, PID: 74740\n",
      "Error setting tracking uri: HTTPConnectionPool(host='localhost', port=5000): Max retries exceeded with url: / (Caused by NewConnectionError('<urllib3.connection.HTTPConnection object at 0x2d03c2fc0>: Failed to establish a new connection: [Errno 61] Connection refused'))\n",
      "mid_train_error_stats:    pinball_loss       rmse    nmbe    cvrmse       gof         qs       ace  \\\n",
      "0      0.015535  52.143059  0.0177  0.241711  0.171373  11.054398  0.007316   \n",
      "\n",
      "           is  n_iter  epoch  \n",
      "0  155.128129     500     33  \n",
      "mid_train_error_stats:    pinball_loss       rmse      nmbe    cvrmse       gof         qs       ace  \\\n",
      "0      0.015535  52.143059  0.017700  0.241711  0.171373  11.054398  0.007316   \n",
      "1      0.014362  48.183414  0.032641  0.223356  0.159614  10.218383  0.014747   \n",
      "\n",
      "           is  n_iter  epoch  \n",
      "0  155.128129     500     33  \n",
      "1  143.610209    1000     66  \n",
      "mid_train_error_stats:    pinball_loss       rmse      nmbe    cvrmse       gof         qs       ace  \\\n",
      "0      0.015535  52.143059  0.017700  0.241711  0.171373  11.054398  0.007316   \n",
      "1      0.014362  48.183414  0.032641  0.223356  0.159614  10.218383  0.014747   \n",
      "2      0.014103  46.218925 -0.010027  0.214250  0.151663  10.033330  0.021549   \n",
      "\n",
      "           is  n_iter  epoch  \n",
      "0  155.128129     500     33  \n",
      "1  143.610209    1000     66  \n",
      "2  142.521624    1500     99  \n",
      "saving timeseries comparison in /Users/jsmith2/Code/@ic/Wattile_examples/ex-1-skyspark-demo/models/headquarters-electricity/Vis_TimeseriesComparisons.svg\n"
     ]
    },
    {
     "data": {
      "text/plain": [
       "'See /Users/jsmith2/Code/@ic/Wattile_examples/ex-1-skyspark-demo/models/headquarters-electricity for the results.'"
      ]
     },
     "execution_count": 16,
     "metadata": {},
     "output_type": "execute_result"
    }
   ],
   "source": [
    "init_logging(local_results_dir=MODEL_CONFIGS[0][\"data_output\"][\"exp_dir\"])\n",
    "model = ModelFactory.create_model(MODEL_CONFIGS[0])\n",
    "model.train(train_df, val_df)\n",
    "\n",
    "f\"See {MODEL_TARGET_DIRS[0]} for the results.\""
   ]
  }
 ],
 "metadata": {
  "kernelspec": {
   "display_name": "Python 3 (ipykernel)",
   "language": "python",
   "name": "python3"
  },
  "language_info": {
   "codemirror_mode": {
    "name": "ipython",
    "version": 3
   },
   "file_extension": ".py",
   "mimetype": "text/x-python",
   "name": "python",
   "nbconvert_exporter": "python",
   "pygments_lexer": "ipython3",
   "version": "3.12.4"
  },
  "vscode": {
   "interpreter": {
    "hash": "050b4ce936b11791d7b8f3e010d2bda88e07dbd3a9996e3c82dc775bc9b4401b"
   }
  }
 },
 "nbformat": 4,
 "nbformat_minor": 5
}

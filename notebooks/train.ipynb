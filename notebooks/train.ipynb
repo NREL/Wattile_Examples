{
 "cells": [
  {
   "cell_type": "markdown",
   "id": "a2258a8a",
   "metadata": {},
   "source": [
    "# Example Notebook"
   ]
  },
  {
   "cell_type": "code",
   "execution_count": 1,
   "id": "4866f6da",
   "metadata": {},
   "outputs": [
    {
     "name": "stdout",
     "output_type": "stream",
     "text": [
      "PROJECT_DIRECTORY = /Users/jsmith2/Code/@ic/Wattile/wattile\n",
      "/Users/jsmith2/Code/@ic/Wattile_examples\n"
     ]
    }
   ],
   "source": [
    "import json\n",
    "from pathlib import Path\n",
    "import shutil\n",
    "import pandas as pd\n",
    "\n",
    "from wattile.entry_point import init_logging\n",
    "from wattile.data_reading import read_dataset_from_file\n",
    "from wattile.data_processing import prep_for_rnn\n",
    "from wattile.models import ModelFactory\n",
    "\n",
    "\n",
    "PROJECT_DIRECTORY = Path().resolve().parent\n",
    "print(PROJECT_DIRECTORY)"
   ]
  },
  {
   "cell_type": "code",
   "execution_count": 2,
   "id": "b9d7f076",
   "metadata": {},
   "outputs": [],
   "source": [
    "# pd.set_option('display.max_columns', None)\n",
    "# pd.set_option('display.max_rows', None)"
   ]
  },
  {
   "cell_type": "code",
   "execution_count": 3,
   "id": "8c6e3b38",
   "metadata": {},
   "outputs": [
    {
     "data": {
      "text/plain": [
       "{'data_input': {'data_dir': '/Users/jsmith2/Code/@ic/Wattile_examples/data/Headquarters',\n",
       "  'data_config': 'Headquarters Config.json',\n",
       "  'start_time': '2022-07-01T00:00:00-06:00',\n",
       "  'end_time': '2024-07-02T00:00:00-06:00',\n",
       "  'predictor_columns': ['Richmond, VA Humidity', 'Richmond, VA Temp'],\n",
       "  'target_var': 'Headquarters ElecMeter-Main kW'},\n",
       " 'data_output': {'exp_dir': '/Users/jsmith2/Code/@ic/Wattile_examples/notebooks/examples/exp_dir',\n",
       "  'plot_comparison': True,\n",
       "  'plot_comparison_portion_start': 0.0,\n",
       "  'plot_comparison_portion_end': 1.0},\n",
       " 'data_processing': {'feat_time': {'month_of_year': [],\n",
       "   'day_of_week': ['binary_reg', 'binary_fuzzy'],\n",
       "   'hour_of_day': ['binary_reg', 'binary_fuzzy'],\n",
       "   'holidays': False},\n",
       "  'resample': {'bin_interval': '180min',\n",
       "   'bin_closed': 'left',\n",
       "   'bin_label': 'left'},\n",
       "  'feat_stats': {'active': True, 'window_width': '180min'},\n",
       "  'feat_timelag': {'lag_interval': '360min', 'lag_count': 8},\n",
       "  'input_output_window': {'window_width_source': '180min',\n",
       "   'window_width_futurecast': '0min',\n",
       "   'window_width_target': '45min'},\n",
       "  'random_seed': 382,\n",
       "  'sequential_splicer': {'active': False, 'window_width': '1W'},\n",
       "  'data_split': '80:20:0',\n",
       "  'train_size_factor': 1},\n",
       " 'learning_algorithm': {'arch_type': 'RNN',\n",
       "  'arch_version': 'alfa',\n",
       "  'arch_type_variant': 'lstm',\n",
       "  'use_case': 'train',\n",
       "  'num_epochs': 100,\n",
       "  'hidden_size': 25,\n",
       "  'num_layers': 1,\n",
       "  'quantiles': [0.05, 0.25, 0.5, 0.75, 0.95],\n",
       "  'transformation_method': 'minmaxscale',\n",
       "  'train_batch_size': 26,\n",
       "  'val_batch_size': 1,\n",
       "  'run_resume': False,\n",
       "  'optimizer_config': {'weight_decay': 0.001,\n",
       "   'base': 0.001,\n",
       "   'schedule': False,\n",
       "   'type': 'performance',\n",
       "   'factor': 0.1,\n",
       "   'min': 1e-05,\n",
       "   'patience': 30,\n",
       "   'step_size': 75},\n",
       "  'smoothing_alpha': 0.001,\n",
       "  'eval_frequency': 500,\n",
       "  'test_method': 'external'},\n",
       " 'model_registry': {'log': False,\n",
       "  'endpoint': 'http://localhost:5000',\n",
       "  'experiment_name': 'Headquarters',\n",
       "  'run_name': 'Headquarters Model Run',\n",
       "  'run_description': 'SkySpark Headquarters - Wattile example Model Run',\n",
       "  'run_tags': {'type': 'example', 'bulding': 'Headquarters'}}}"
      ]
     },
     "execution_count": 3,
     "metadata": {},
     "output_type": "execute_result"
    }
   ],
   "source": [
    "\"\"\"\n",
    "For this example, we will be using the default configs.\n",
    "Check out the docs for an explaination of each config.\n",
    "\"\"\"\n",
    "with open(PROJECT_DIRECTORY / \"data\" / \"configs\" / \"configs.json\", \"r\") as f:\n",
    "    configs = json.load(f)\n",
    "\n",
    "exp_dir = PROJECT_DIRECTORY / \"notebooks\" /  \"examples\" / \"exp_dir\"\n",
    "if exp_dir.exists():\n",
    "    shutil.rmtree(exp_dir)\n",
    "exp_dir.mkdir()\n",
    "\n",
    "configs[\"data_output\"][\"exp_dir\"] = str(exp_dir)\n",
    "configs[\"data_input\"][\"data_dir\"] = str(PROJECT_DIRECTORY / \"data\" / \"Headquarters\")\n",
    "\n",
    "configs"
   ]
  },
  {
   "cell_type": "code",
   "execution_count": 4,
   "id": "7ebc7130",
   "metadata": {},
   "outputs": [
    {
     "data": {
      "text/html": [
       "<div>\n",
       "<style scoped>\n",
       "    .dataframe tbody tr th:only-of-type {\n",
       "        vertical-align: middle;\n",
       "    }\n",
       "\n",
       "    .dataframe tbody tr th {\n",
       "        vertical-align: top;\n",
       "    }\n",
       "\n",
       "    .dataframe thead th {\n",
       "        text-align: right;\n",
       "    }\n",
       "</style>\n",
       "<table border=\"1\" class=\"dataframe\">\n",
       "  <thead>\n",
       "    <tr style=\"text-align: right;\">\n",
       "      <th></th>\n",
       "      <th>Richmond, VA Humidity</th>\n",
       "      <th>Richmond, VA Temp</th>\n",
       "      <th>Headquarters ElecMeter-Main kW</th>\n",
       "    </tr>\n",
       "    <tr>\n",
       "      <th>Timestamp</th>\n",
       "      <th></th>\n",
       "      <th></th>\n",
       "      <th></th>\n",
       "    </tr>\n",
       "  </thead>\n",
       "  <tbody>\n",
       "    <tr>\n",
       "      <th>2022-07-01 04:00:00+00:00</th>\n",
       "      <td>NaN</td>\n",
       "      <td>NaN</td>\n",
       "      <td>111.0</td>\n",
       "    </tr>\n",
       "    <tr>\n",
       "      <th>2022-07-01 04:15:00+00:00</th>\n",
       "      <td>NaN</td>\n",
       "      <td>NaN</td>\n",
       "      <td>113.0</td>\n",
       "    </tr>\n",
       "    <tr>\n",
       "      <th>2022-07-01 04:30:00+00:00</th>\n",
       "      <td>NaN</td>\n",
       "      <td>NaN</td>\n",
       "      <td>110.0</td>\n",
       "    </tr>\n",
       "    <tr>\n",
       "      <th>2022-07-01 04:45:00+00:00</th>\n",
       "      <td>NaN</td>\n",
       "      <td>NaN</td>\n",
       "      <td>110.0</td>\n",
       "    </tr>\n",
       "    <tr>\n",
       "      <th>2022-07-01 05:00:00+00:00</th>\n",
       "      <td>NaN</td>\n",
       "      <td>NaN</td>\n",
       "      <td>110.0</td>\n",
       "    </tr>\n",
       "    <tr>\n",
       "      <th>...</th>\n",
       "      <td>...</td>\n",
       "      <td>...</td>\n",
       "      <td>...</td>\n",
       "    </tr>\n",
       "    <tr>\n",
       "      <th>2024-07-01 02:45:00+00:00</th>\n",
       "      <td>NaN</td>\n",
       "      <td>NaN</td>\n",
       "      <td>136.0</td>\n",
       "    </tr>\n",
       "    <tr>\n",
       "      <th>2024-07-01 03:00:00+00:00</th>\n",
       "      <td>87.0</td>\n",
       "      <td>79.0</td>\n",
       "      <td>136.0</td>\n",
       "    </tr>\n",
       "    <tr>\n",
       "      <th>2024-07-01 03:15:00+00:00</th>\n",
       "      <td>NaN</td>\n",
       "      <td>NaN</td>\n",
       "      <td>140.0</td>\n",
       "    </tr>\n",
       "    <tr>\n",
       "      <th>2024-07-01 03:30:00+00:00</th>\n",
       "      <td>NaN</td>\n",
       "      <td>NaN</td>\n",
       "      <td>190.0</td>\n",
       "    </tr>\n",
       "    <tr>\n",
       "      <th>2024-07-01 03:45:00+00:00</th>\n",
       "      <td>NaN</td>\n",
       "      <td>NaN</td>\n",
       "      <td>144.0</td>\n",
       "    </tr>\n",
       "  </tbody>\n",
       "</table>\n",
       "<p>70170 rows × 3 columns</p>\n",
       "</div>"
      ],
      "text/plain": [
       "                           Richmond, VA Humidity  Richmond, VA Temp  \\\n",
       "Timestamp                                                             \n",
       "2022-07-01 04:00:00+00:00                    NaN                NaN   \n",
       "2022-07-01 04:15:00+00:00                    NaN                NaN   \n",
       "2022-07-01 04:30:00+00:00                    NaN                NaN   \n",
       "2022-07-01 04:45:00+00:00                    NaN                NaN   \n",
       "2022-07-01 05:00:00+00:00                    NaN                NaN   \n",
       "...                                          ...                ...   \n",
       "2024-07-01 02:45:00+00:00                    NaN                NaN   \n",
       "2024-07-01 03:00:00+00:00                   87.0               79.0   \n",
       "2024-07-01 03:15:00+00:00                    NaN                NaN   \n",
       "2024-07-01 03:30:00+00:00                    NaN                NaN   \n",
       "2024-07-01 03:45:00+00:00                    NaN                NaN   \n",
       "\n",
       "                           Headquarters ElecMeter-Main kW  \n",
       "Timestamp                                                  \n",
       "2022-07-01 04:00:00+00:00                           111.0  \n",
       "2022-07-01 04:15:00+00:00                           113.0  \n",
       "2022-07-01 04:30:00+00:00                           110.0  \n",
       "2022-07-01 04:45:00+00:00                           110.0  \n",
       "2022-07-01 05:00:00+00:00                           110.0  \n",
       "...                                                   ...  \n",
       "2024-07-01 02:45:00+00:00                           136.0  \n",
       "2024-07-01 03:00:00+00:00                           136.0  \n",
       "2024-07-01 03:15:00+00:00                           140.0  \n",
       "2024-07-01 03:30:00+00:00                           190.0  \n",
       "2024-07-01 03:45:00+00:00                           144.0  \n",
       "\n",
       "[70170 rows x 3 columns]"
      ]
     },
     "execution_count": 4,
     "metadata": {},
     "output_type": "execute_result"
    }
   ],
   "source": [
    "\"\"\"\n",
    "Firstly, we will read the raw data from the dataset.\n",
    "Checkout the docs for an indepth explaination of necessary dataset structure.\n",
    "\"\"\"\n",
    "data = read_dataset_from_file(configs)\n",
    "data\n"
   ]
  },
  {
   "cell_type": "code",
   "execution_count": 5,
   "id": "21a0275c",
   "metadata": {},
   "outputs": [
    {
     "ename": "KeyError",
     "evalue": "0",
     "output_type": "error",
     "traceback": [
      "\u001b[0;31m---------------------------------------------------------------------------\u001b[0m",
      "\u001b[0;31mKeyError\u001b[0m                                  Traceback (most recent call last)",
      "Cell \u001b[0;32mIn[5], line 7\u001b[0m\n\u001b[1;32m      2\u001b[0m pd\u001b[38;5;241m.\u001b[39mset_option(\u001b[38;5;124m'\u001b[39m\u001b[38;5;124mdisplay.max_rows\u001b[39m\u001b[38;5;124m'\u001b[39m, \u001b[38;5;28;01mNone\u001b[39;00m)\n\u001b[1;32m      4\u001b[0m \u001b[38;5;124;03m\"\"\"\u001b[39;00m\n\u001b[1;32m      5\u001b[0m \u001b[38;5;124;03mNext, we call `prep_for_rnn` do preform some data preprocessing.\u001b[39;00m\n\u001b[1;32m      6\u001b[0m \u001b[38;5;124;03m\"\"\"\u001b[39;00m\n\u001b[0;32m----> 7\u001b[0m train_df, val_df \u001b[38;5;241m=\u001b[39m \u001b[43mprep_for_rnn\u001b[49m\u001b[43m(\u001b[49m\u001b[43mconfigs\u001b[49m\u001b[43m,\u001b[49m\u001b[43m \u001b[49m\u001b[43mdata\u001b[49m\u001b[43m)\u001b[49m\n\u001b[1;32m      8\u001b[0m \u001b[38;5;66;03m# train_df.columns.to_list()\u001b[39;00m\n",
      "File \u001b[0;32m~/Code/@ic/Wattile/wattile/data_processing.py:523\u001b[0m, in \u001b[0;36mprep_for_rnn\u001b[0;34m(configs, data)\u001b[0m\n\u001b[1;32m    516\u001b[0m \u001b[38;5;28;01mdef\u001b[39;00m \u001b[38;5;21mprep_for_rnn\u001b[39m(configs, data):\n\u001b[1;32m    517\u001b[0m \u001b[38;5;250m    \u001b[39m\u001b[38;5;124;03m\"\"\"\u001b[39;00m\n\u001b[1;32m    518\u001b[0m \u001b[38;5;124;03m    Prepare data for input to a RNN model.\u001b[39;00m\n\u001b[1;32m    519\u001b[0m \n\u001b[1;32m    520\u001b[0m \u001b[38;5;124;03m    :param configs: (Dict)\u001b[39;00m\n\u001b[1;32m    521\u001b[0m \u001b[38;5;124;03m    :return: train and val DataFrames\u001b[39;00m\n\u001b[1;32m    522\u001b[0m \u001b[38;5;124;03m    \"\"\"\u001b[39;00m\n\u001b[0;32m--> 523\u001b[0m     data \u001b[38;5;241m=\u001b[39m \u001b[43m_preprocess_data\u001b[49m\u001b[43m(\u001b[49m\u001b[43mconfigs\u001b[49m\u001b[43m,\u001b[49m\u001b[43m \u001b[49m\u001b[43mdata\u001b[49m\u001b[43m)\u001b[49m\n\u001b[1;32m    525\u001b[0m     \u001b[38;5;66;03m# if validatate with external data, write data to h5 for future testing.\u001b[39;00m\n\u001b[1;32m    526\u001b[0m     \u001b[38;5;28;01mif\u001b[39;00m (\n\u001b[1;32m    527\u001b[0m         configs[\u001b[38;5;124m\"\u001b[39m\u001b[38;5;124mlearning_algorithm\u001b[39m\u001b[38;5;124m\"\u001b[39m][\u001b[38;5;124m\"\u001b[39m\u001b[38;5;124muse_case\u001b[39m\u001b[38;5;124m\"\u001b[39m] \u001b[38;5;241m==\u001b[39m \u001b[38;5;124m\"\u001b[39m\u001b[38;5;124mvalidation\u001b[39m\u001b[38;5;124m\"\u001b[39m\n\u001b[1;32m    528\u001b[0m         \u001b[38;5;129;01mand\u001b[39;00m configs[\u001b[38;5;124m\"\u001b[39m\u001b[38;5;124mlearning_algorithm\u001b[39m\u001b[38;5;124m\"\u001b[39m][\u001b[38;5;124m\"\u001b[39m\u001b[38;5;124mtest_method\u001b[39m\u001b[38;5;124m\"\u001b[39m] \u001b[38;5;241m==\u001b[39m \u001b[38;5;124m\"\u001b[39m\u001b[38;5;124mexternal\u001b[39m\u001b[38;5;124m\"\u001b[39m\n\u001b[1;32m    529\u001b[0m     ):\n",
      "File \u001b[0;32m~/Code/@ic/Wattile/wattile/data_processing.py:492\u001b[0m, in \u001b[0;36m_preprocess_data\u001b[0;34m(configs, data)\u001b[0m\n\u001b[1;32m    489\u001b[0m data \u001b[38;5;241m=\u001b[39m correct_timestamps(configs, data)\n\u001b[1;32m    491\u001b[0m \u001b[38;5;66;03m# Add time-based features\u001b[39;00m\n\u001b[0;32m--> 492\u001b[0m data \u001b[38;5;241m=\u001b[39m \u001b[43madd_processed_time_columns\u001b[49m\u001b[43m(\u001b[49m\u001b[43mdata\u001b[49m\u001b[43m,\u001b[49m\u001b[43m \u001b[49m\u001b[43mconfigs\u001b[49m\u001b[43m)\u001b[49m\n\u001b[1;32m    494\u001b[0m \u001b[38;5;66;03m# Add statistics features\u001b[39;00m\n\u001b[1;32m    495\u001b[0m \u001b[38;5;28;01mif\u001b[39;00m configs[\u001b[38;5;124m\"\u001b[39m\u001b[38;5;124mdata_processing\u001b[39m\u001b[38;5;124m\"\u001b[39m][\u001b[38;5;124m\"\u001b[39m\u001b[38;5;124mfeat_stats\u001b[39m\u001b[38;5;124m\"\u001b[39m][\u001b[38;5;124m\"\u001b[39m\u001b[38;5;124mactive\u001b[39m\u001b[38;5;124m\"\u001b[39m]:\n",
      "File \u001b[0;32m~/Code/@ic/Wattile/wattile/time_processing.py:117\u001b[0m, in \u001b[0;36madd_processed_time_columns\u001b[0;34m(data, configs)\u001b[0m\n\u001b[1;32m    107\u001b[0m \u001b[38;5;28;01mdef\u001b[39;00m \u001b[38;5;21madd_processed_time_columns\u001b[39m(data, configs):\n\u001b[1;32m    108\u001b[0m \u001b[38;5;250m    \u001b[39m\u001b[38;5;124;03m\"\"\"add time based features.\u001b[39;00m\n\u001b[1;32m    109\u001b[0m \n\u001b[1;32m    110\u001b[0m \u001b[38;5;124;03m    :param configs: configs\u001b[39;00m\n\u001b[0;32m   (...)\u001b[0m\n\u001b[1;32m    115\u001b[0m \u001b[38;5;124;03m    :rtype: pd.dataframe\u001b[39;00m\n\u001b[1;32m    116\u001b[0m \u001b[38;5;124;03m    \"\"\"\u001b[39;00m\n\u001b[0;32m--> 117\u001b[0m     data \u001b[38;5;241m=\u001b[39m \u001b[43m_add_hour_based_columns\u001b[49m\u001b[43m(\u001b[49m\u001b[43mdata\u001b[49m\u001b[43m,\u001b[49m\u001b[43m \u001b[49m\u001b[43mconfigs\u001b[49m\u001b[43m)\u001b[49m\n\u001b[1;32m    118\u001b[0m     data \u001b[38;5;241m=\u001b[39m _add_day_based_columns(data, configs)\n\u001b[1;32m    119\u001b[0m     data \u001b[38;5;241m=\u001b[39m _add_month_based_columns(data, configs)\n",
      "File \u001b[0;32m~/Code/@ic/Wattile/wattile/time_processing.py:47\u001b[0m, in \u001b[0;36m_add_hour_based_columns\u001b[0;34m(data, configs)\u001b[0m\n\u001b[1;32m     41\u001b[0m     \u001b[38;5;28;01mfor\u001b[39;00m HOD \u001b[38;5;129;01min\u001b[39;00m \u001b[38;5;28mrange\u001b[39m(\u001b[38;5;241m0\u001b[39m, \u001b[38;5;241m24\u001b[39m):\n\u001b[1;32m     42\u001b[0m         data[\u001b[38;5;124mf\u001b[39m\u001b[38;5;124m\"\u001b[39m\u001b[38;5;124mHOD_binary_fuzzy_\u001b[39m\u001b[38;5;132;01m{\u001b[39;00mHOD\u001b[38;5;132;01m}\u001b[39;00m\u001b[38;5;124m\"\u001b[39m] \u001b[38;5;241m=\u001b[39m np\u001b[38;5;241m.\u001b[39mmaximum(\n\u001b[1;32m     43\u001b[0m             \u001b[38;5;241m1\u001b[39m \u001b[38;5;241m-\u001b[39m \u001b[38;5;28mabs\u001b[39m(time_as_float \u001b[38;5;241m-\u001b[39m HOD), \u001b[38;5;241m0\u001b[39m\n\u001b[1;32m     44\u001b[0m         )\n\u001b[1;32m     46\u001b[0m \u001b[38;5;28mprint\u001b[39m(\n\u001b[0;32m---> 47\u001b[0m     \u001b[43mdata\u001b[49m\u001b[43m[\u001b[49m\u001b[43mdata\u001b[49m\u001b[38;5;241;43m.\u001b[39;49m\u001b[43mcolumns\u001b[49m\u001b[43m[\u001b[49m\u001b[43mpd\u001b[49m\u001b[38;5;241;43m.\u001b[39;49m\u001b[43mSeries\u001b[49m\u001b[43m(\u001b[49m\u001b[43mdata\u001b[49m\u001b[38;5;241;43m.\u001b[39;49m\u001b[43mcolumns\u001b[49m\u001b[43m)\u001b[49m\u001b[38;5;241;43m.\u001b[39;49m\u001b[43mstr\u001b[49m\u001b[38;5;241;43m.\u001b[39;49m\u001b[43mstartswith\u001b[49m\u001b[43m(\u001b[49m\u001b[38;5;124;43m\"\u001b[39;49m\u001b[38;5;124;43mHOD_\u001b[39;49m\u001b[38;5;124;43m\"\u001b[39;49m\u001b[43m)\u001b[49m\u001b[43m]\u001b[49m\u001b[43m]\u001b[49m\u001b[38;5;241;43m.\u001b[39;49m\u001b[43mloc\u001b[49m\u001b[43m[\u001b[49m\u001b[38;5;241;43m0\u001b[39;49m\u001b[43m]\u001b[49m\u001b[38;5;241m.\u001b[39msum()\n\u001b[1;32m     48\u001b[0m )\n\u001b[1;32m     49\u001b[0m \u001b[38;5;28;01mreturn\u001b[39;00m data\n",
      "File \u001b[0;32m~/Code/@ic/Wattile_examples/.venv/lib/python3.12/site-packages/pandas/core/indexing.py:1191\u001b[0m, in \u001b[0;36m_LocationIndexer.__getitem__\u001b[0;34m(self, key)\u001b[0m\n\u001b[1;32m   1189\u001b[0m maybe_callable \u001b[38;5;241m=\u001b[39m com\u001b[38;5;241m.\u001b[39mapply_if_callable(key, \u001b[38;5;28mself\u001b[39m\u001b[38;5;241m.\u001b[39mobj)\n\u001b[1;32m   1190\u001b[0m maybe_callable \u001b[38;5;241m=\u001b[39m \u001b[38;5;28mself\u001b[39m\u001b[38;5;241m.\u001b[39m_check_deprecated_callable_usage(key, maybe_callable)\n\u001b[0;32m-> 1191\u001b[0m \u001b[38;5;28;01mreturn\u001b[39;00m \u001b[38;5;28;43mself\u001b[39;49m\u001b[38;5;241;43m.\u001b[39;49m\u001b[43m_getitem_axis\u001b[49m\u001b[43m(\u001b[49m\u001b[43mmaybe_callable\u001b[49m\u001b[43m,\u001b[49m\u001b[43m \u001b[49m\u001b[43maxis\u001b[49m\u001b[38;5;241;43m=\u001b[39;49m\u001b[43maxis\u001b[49m\u001b[43m)\u001b[49m\n",
      "File \u001b[0;32m~/Code/@ic/Wattile_examples/.venv/lib/python3.12/site-packages/pandas/core/indexing.py:1431\u001b[0m, in \u001b[0;36m_LocIndexer._getitem_axis\u001b[0;34m(self, key, axis)\u001b[0m\n\u001b[1;32m   1429\u001b[0m \u001b[38;5;66;03m# fall thru to straight lookup\u001b[39;00m\n\u001b[1;32m   1430\u001b[0m \u001b[38;5;28mself\u001b[39m\u001b[38;5;241m.\u001b[39m_validate_key(key, axis)\n\u001b[0;32m-> 1431\u001b[0m \u001b[38;5;28;01mreturn\u001b[39;00m \u001b[38;5;28;43mself\u001b[39;49m\u001b[38;5;241;43m.\u001b[39;49m\u001b[43m_get_label\u001b[49m\u001b[43m(\u001b[49m\u001b[43mkey\u001b[49m\u001b[43m,\u001b[49m\u001b[43m \u001b[49m\u001b[43maxis\u001b[49m\u001b[38;5;241;43m=\u001b[39;49m\u001b[43maxis\u001b[49m\u001b[43m)\u001b[49m\n",
      "File \u001b[0;32m~/Code/@ic/Wattile_examples/.venv/lib/python3.12/site-packages/pandas/core/indexing.py:1381\u001b[0m, in \u001b[0;36m_LocIndexer._get_label\u001b[0;34m(self, label, axis)\u001b[0m\n\u001b[1;32m   1379\u001b[0m \u001b[38;5;28;01mdef\u001b[39;00m \u001b[38;5;21m_get_label\u001b[39m(\u001b[38;5;28mself\u001b[39m, label, axis: AxisInt):\n\u001b[1;32m   1380\u001b[0m     \u001b[38;5;66;03m# GH#5567 this will fail if the label is not present in the axis.\u001b[39;00m\n\u001b[0;32m-> 1381\u001b[0m     \u001b[38;5;28;01mreturn\u001b[39;00m \u001b[38;5;28;43mself\u001b[39;49m\u001b[38;5;241;43m.\u001b[39;49m\u001b[43mobj\u001b[49m\u001b[38;5;241;43m.\u001b[39;49m\u001b[43mxs\u001b[49m\u001b[43m(\u001b[49m\u001b[43mlabel\u001b[49m\u001b[43m,\u001b[49m\u001b[43m \u001b[49m\u001b[43maxis\u001b[49m\u001b[38;5;241;43m=\u001b[39;49m\u001b[43maxis\u001b[49m\u001b[43m)\u001b[49m\n",
      "File \u001b[0;32m~/Code/@ic/Wattile_examples/.venv/lib/python3.12/site-packages/pandas/core/generic.py:4301\u001b[0m, in \u001b[0;36mNDFrame.xs\u001b[0;34m(self, key, axis, level, drop_level)\u001b[0m\n\u001b[1;32m   4299\u001b[0m             new_index \u001b[38;5;241m=\u001b[39m index[loc]\n\u001b[1;32m   4300\u001b[0m \u001b[38;5;28;01melse\u001b[39;00m:\n\u001b[0;32m-> 4301\u001b[0m     loc \u001b[38;5;241m=\u001b[39m \u001b[43mindex\u001b[49m\u001b[38;5;241;43m.\u001b[39;49m\u001b[43mget_loc\u001b[49m\u001b[43m(\u001b[49m\u001b[43mkey\u001b[49m\u001b[43m)\u001b[49m\n\u001b[1;32m   4303\u001b[0m     \u001b[38;5;28;01mif\u001b[39;00m \u001b[38;5;28misinstance\u001b[39m(loc, np\u001b[38;5;241m.\u001b[39mndarray):\n\u001b[1;32m   4304\u001b[0m         \u001b[38;5;28;01mif\u001b[39;00m loc\u001b[38;5;241m.\u001b[39mdtype \u001b[38;5;241m==\u001b[39m np\u001b[38;5;241m.\u001b[39mbool_:\n",
      "File \u001b[0;32m~/Code/@ic/Wattile_examples/.venv/lib/python3.12/site-packages/pandas/core/indexes/datetimes.py:627\u001b[0m, in \u001b[0;36mDatetimeIndex.get_loc\u001b[0;34m(self, key)\u001b[0m\n\u001b[1;32m    623\u001b[0m     \u001b[38;5;28;01mreturn\u001b[39;00m \u001b[38;5;28mself\u001b[39m\u001b[38;5;241m.\u001b[39mindexer_at_time(key)\n\u001b[1;32m    625\u001b[0m \u001b[38;5;28;01melse\u001b[39;00m:\n\u001b[1;32m    626\u001b[0m     \u001b[38;5;66;03m# unrecognized type\u001b[39;00m\n\u001b[0;32m--> 627\u001b[0m     \u001b[38;5;28;01mraise\u001b[39;00m \u001b[38;5;167;01mKeyError\u001b[39;00m(key)\n\u001b[1;32m    629\u001b[0m \u001b[38;5;28;01mtry\u001b[39;00m:\n\u001b[1;32m    630\u001b[0m     \u001b[38;5;28;01mreturn\u001b[39;00m Index\u001b[38;5;241m.\u001b[39mget_loc(\u001b[38;5;28mself\u001b[39m, key)\n",
      "\u001b[0;31mKeyError\u001b[0m: 0"
     ]
    }
   ],
   "source": [
    "pd.set_option('display.max_columns', None)\n",
    "pd.set_option('display.max_rows', None)\n",
    "\n",
    "\"\"\"\n",
    "Next, we call `prep_for_rnn` do preform some data preprocessing.\n",
    "\"\"\"\n",
    "train_df, val_df = prep_for_rnn(configs, data)\n",
    "# train_df.columns.to_list()\n",
    "\n",
    "\n"
   ]
  },
  {
   "cell_type": "code",
   "execution_count": null,
   "id": "4e6caecd",
   "metadata": {},
   "outputs": [],
   "source": []
  },
  {
   "cell_type": "code",
   "execution_count": null,
   "id": "58b32119",
   "metadata": {},
   "outputs": [
    {
     "name": "stdout",
     "output_type": "stream",
     "text": [
      "Logging to: /Users/jsmith2/Code/@ic/Wattile_examples/notebooks/examples/exp_dir/output.out, PID: 76815\n",
      "train_df.shape (4651, 1729)\n",
      "is nans in train_df False\n",
      "data pre minmax False\n",
      "data post minmax True\n",
      "data cols with nans ['HOD_binary_reg_0_min_lag8', 'HOD_binary_reg_1_min_lag8', 'HOD_binary_reg_2_min_lag8', 'HOD_binary_reg_3_min_lag8', 'HOD_binary_reg_4_min_lag8', 'HOD_binary_reg_5_min_lag8', 'HOD_binary_reg_6_min_lag8', 'HOD_binary_reg_7_min_lag8', 'HOD_binary_reg_8_min_lag8', 'HOD_binary_reg_9_min_lag8', 'HOD_binary_reg_10_min_lag8', 'HOD_binary_reg_11_min_lag8', 'HOD_binary_reg_12_min_lag8', 'HOD_binary_reg_13_min_lag8', 'HOD_binary_reg_14_min_lag8', 'HOD_binary_reg_15_min_lag8', 'HOD_binary_reg_16_min_lag8', 'HOD_binary_reg_17_min_lag8', 'HOD_binary_reg_18_min_lag8', 'HOD_binary_reg_19_min_lag8', 'HOD_binary_reg_20_min_lag8', 'HOD_binary_reg_21_min_lag8', 'HOD_binary_reg_22_min_lag8', 'HOD_binary_reg_23_min_lag8', 'HOD_binary_fuzzy_0_min_lag8', 'HOD_binary_fuzzy_1_min_lag8', 'HOD_binary_fuzzy_2_min_lag8', 'HOD_binary_fuzzy_3_min_lag8', 'HOD_binary_fuzzy_4_min_lag8', 'HOD_binary_fuzzy_5_min_lag8', 'HOD_binary_fuzzy_6_min_lag8', 'HOD_binary_fuzzy_7_min_lag8', 'HOD_binary_fuzzy_8_min_lag8', 'HOD_binary_fuzzy_9_min_lag8', 'HOD_binary_fuzzy_10_min_lag8', 'HOD_binary_fuzzy_11_min_lag8', 'HOD_binary_fuzzy_12_min_lag8', 'HOD_binary_fuzzy_13_min_lag8', 'HOD_binary_fuzzy_14_min_lag8', 'HOD_binary_fuzzy_15_min_lag8', 'HOD_binary_fuzzy_16_min_lag8', 'HOD_binary_fuzzy_17_min_lag8', 'HOD_binary_fuzzy_18_min_lag8', 'HOD_binary_fuzzy_19_min_lag8', 'HOD_binary_fuzzy_20_min_lag8', 'HOD_binary_fuzzy_21_min_lag8', 'HOD_binary_fuzzy_22_min_lag8', 'HOD_binary_fuzzy_23_min_lag8', 'HOD_binary_reg_0_min_lag7', 'HOD_binary_reg_1_min_lag7', 'HOD_binary_reg_2_min_lag7', 'HOD_binary_reg_3_min_lag7', 'HOD_binary_reg_4_min_lag7', 'HOD_binary_reg_5_min_lag7', 'HOD_binary_reg_6_min_lag7', 'HOD_binary_reg_7_min_lag7', 'HOD_binary_reg_8_min_lag7', 'HOD_binary_reg_9_min_lag7', 'HOD_binary_reg_10_min_lag7', 'HOD_binary_reg_11_min_lag7', 'HOD_binary_reg_12_min_lag7', 'HOD_binary_reg_13_min_lag7', 'HOD_binary_reg_14_min_lag7', 'HOD_binary_reg_15_min_lag7', 'HOD_binary_reg_16_min_lag7', 'HOD_binary_reg_17_min_lag7', 'HOD_binary_reg_18_min_lag7', 'HOD_binary_reg_19_min_lag7', 'HOD_binary_reg_20_min_lag7', 'HOD_binary_reg_21_min_lag7', 'HOD_binary_reg_22_min_lag7', 'HOD_binary_reg_23_min_lag7', 'HOD_binary_fuzzy_0_min_lag7', 'HOD_binary_fuzzy_1_min_lag7', 'HOD_binary_fuzzy_2_min_lag7', 'HOD_binary_fuzzy_3_min_lag7', 'HOD_binary_fuzzy_4_min_lag7', 'HOD_binary_fuzzy_5_min_lag7', 'HOD_binary_fuzzy_6_min_lag7', 'HOD_binary_fuzzy_7_min_lag7', 'HOD_binary_fuzzy_8_min_lag7', 'HOD_binary_fuzzy_9_min_lag7', 'HOD_binary_fuzzy_10_min_lag7', 'HOD_binary_fuzzy_11_min_lag7', 'HOD_binary_fuzzy_12_min_lag7', 'HOD_binary_fuzzy_13_min_lag7', 'HOD_binary_fuzzy_14_min_lag7', 'HOD_binary_fuzzy_15_min_lag7', 'HOD_binary_fuzzy_16_min_lag7', 'HOD_binary_fuzzy_17_min_lag7', 'HOD_binary_fuzzy_18_min_lag7', 'HOD_binary_fuzzy_19_min_lag7', 'HOD_binary_fuzzy_20_min_lag7', 'HOD_binary_fuzzy_21_min_lag7', 'HOD_binary_fuzzy_22_min_lag7', 'HOD_binary_fuzzy_23_min_lag7', 'HOD_binary_reg_0_min_lag6', 'HOD_binary_reg_1_min_lag6', 'HOD_binary_reg_2_min_lag6', 'HOD_binary_reg_3_min_lag6', 'HOD_binary_reg_4_min_lag6', 'HOD_binary_reg_5_min_lag6', 'HOD_binary_reg_6_min_lag6', 'HOD_binary_reg_7_min_lag6', 'HOD_binary_reg_8_min_lag6', 'HOD_binary_reg_9_min_lag6', 'HOD_binary_reg_10_min_lag6', 'HOD_binary_reg_11_min_lag6', 'HOD_binary_reg_12_min_lag6', 'HOD_binary_reg_13_min_lag6', 'HOD_binary_reg_14_min_lag6', 'HOD_binary_reg_15_min_lag6', 'HOD_binary_reg_16_min_lag6', 'HOD_binary_reg_17_min_lag6', 'HOD_binary_reg_18_min_lag6', 'HOD_binary_reg_19_min_lag6', 'HOD_binary_reg_20_min_lag6', 'HOD_binary_reg_21_min_lag6', 'HOD_binary_reg_22_min_lag6', 'HOD_binary_reg_23_min_lag6', 'HOD_binary_fuzzy_0_min_lag6', 'HOD_binary_fuzzy_1_min_lag6', 'HOD_binary_fuzzy_2_min_lag6', 'HOD_binary_fuzzy_3_min_lag6', 'HOD_binary_fuzzy_4_min_lag6', 'HOD_binary_fuzzy_5_min_lag6', 'HOD_binary_fuzzy_6_min_lag6', 'HOD_binary_fuzzy_7_min_lag6', 'HOD_binary_fuzzy_8_min_lag6', 'HOD_binary_fuzzy_9_min_lag6', 'HOD_binary_fuzzy_10_min_lag6', 'HOD_binary_fuzzy_11_min_lag6', 'HOD_binary_fuzzy_12_min_lag6', 'HOD_binary_fuzzy_13_min_lag6', 'HOD_binary_fuzzy_14_min_lag6', 'HOD_binary_fuzzy_15_min_lag6', 'HOD_binary_fuzzy_16_min_lag6', 'HOD_binary_fuzzy_17_min_lag6', 'HOD_binary_fuzzy_18_min_lag6', 'HOD_binary_fuzzy_19_min_lag6', 'HOD_binary_fuzzy_20_min_lag6', 'HOD_binary_fuzzy_21_min_lag6', 'HOD_binary_fuzzy_22_min_lag6', 'HOD_binary_fuzzy_23_min_lag6', 'HOD_binary_reg_0_min_lag5', 'HOD_binary_reg_1_min_lag5', 'HOD_binary_reg_2_min_lag5', 'HOD_binary_reg_3_min_lag5', 'HOD_binary_reg_4_min_lag5', 'HOD_binary_reg_5_min_lag5', 'HOD_binary_reg_6_min_lag5', 'HOD_binary_reg_7_min_lag5', 'HOD_binary_reg_8_min_lag5', 'HOD_binary_reg_9_min_lag5', 'HOD_binary_reg_10_min_lag5', 'HOD_binary_reg_11_min_lag5', 'HOD_binary_reg_12_min_lag5', 'HOD_binary_reg_13_min_lag5', 'HOD_binary_reg_14_min_lag5', 'HOD_binary_reg_15_min_lag5', 'HOD_binary_reg_16_min_lag5', 'HOD_binary_reg_17_min_lag5', 'HOD_binary_reg_18_min_lag5', 'HOD_binary_reg_19_min_lag5', 'HOD_binary_reg_20_min_lag5', 'HOD_binary_reg_21_min_lag5', 'HOD_binary_reg_22_min_lag5', 'HOD_binary_reg_23_min_lag5', 'HOD_binary_fuzzy_0_min_lag5', 'HOD_binary_fuzzy_1_min_lag5', 'HOD_binary_fuzzy_2_min_lag5', 'HOD_binary_fuzzy_3_min_lag5', 'HOD_binary_fuzzy_4_min_lag5', 'HOD_binary_fuzzy_5_min_lag5', 'HOD_binary_fuzzy_6_min_lag5', 'HOD_binary_fuzzy_7_min_lag5', 'HOD_binary_fuzzy_8_min_lag5', 'HOD_binary_fuzzy_9_min_lag5', 'HOD_binary_fuzzy_10_min_lag5', 'HOD_binary_fuzzy_11_min_lag5', 'HOD_binary_fuzzy_12_min_lag5', 'HOD_binary_fuzzy_13_min_lag5', 'HOD_binary_fuzzy_14_min_lag5', 'HOD_binary_fuzzy_15_min_lag5', 'HOD_binary_fuzzy_16_min_lag5', 'HOD_binary_fuzzy_17_min_lag5', 'HOD_binary_fuzzy_18_min_lag5', 'HOD_binary_fuzzy_19_min_lag5', 'HOD_binary_fuzzy_20_min_lag5', 'HOD_binary_fuzzy_21_min_lag5', 'HOD_binary_fuzzy_22_min_lag5', 'HOD_binary_fuzzy_23_min_lag5', 'HOD_binary_reg_0_min_lag4', 'HOD_binary_reg_1_min_lag4', 'HOD_binary_reg_2_min_lag4', 'HOD_binary_reg_3_min_lag4', 'HOD_binary_reg_4_min_lag4', 'HOD_binary_reg_5_min_lag4', 'HOD_binary_reg_6_min_lag4', 'HOD_binary_reg_7_min_lag4', 'HOD_binary_reg_8_min_lag4', 'HOD_binary_reg_9_min_lag4', 'HOD_binary_reg_10_min_lag4', 'HOD_binary_reg_11_min_lag4', 'HOD_binary_reg_12_min_lag4', 'HOD_binary_reg_13_min_lag4', 'HOD_binary_reg_14_min_lag4', 'HOD_binary_reg_15_min_lag4', 'HOD_binary_reg_16_min_lag4', 'HOD_binary_reg_17_min_lag4', 'HOD_binary_reg_18_min_lag4', 'HOD_binary_reg_19_min_lag4', 'HOD_binary_reg_20_min_lag4', 'HOD_binary_reg_21_min_lag4', 'HOD_binary_reg_22_min_lag4', 'HOD_binary_reg_23_min_lag4', 'HOD_binary_fuzzy_0_min_lag4', 'HOD_binary_fuzzy_1_min_lag4', 'HOD_binary_fuzzy_2_min_lag4', 'HOD_binary_fuzzy_3_min_lag4', 'HOD_binary_fuzzy_4_min_lag4', 'HOD_binary_fuzzy_5_min_lag4', 'HOD_binary_fuzzy_6_min_lag4', 'HOD_binary_fuzzy_7_min_lag4', 'HOD_binary_fuzzy_8_min_lag4', 'HOD_binary_fuzzy_9_min_lag4', 'HOD_binary_fuzzy_10_min_lag4', 'HOD_binary_fuzzy_11_min_lag4', 'HOD_binary_fuzzy_12_min_lag4', 'HOD_binary_fuzzy_13_min_lag4', 'HOD_binary_fuzzy_14_min_lag4', 'HOD_binary_fuzzy_15_min_lag4', 'HOD_binary_fuzzy_16_min_lag4', 'HOD_binary_fuzzy_17_min_lag4', 'HOD_binary_fuzzy_18_min_lag4', 'HOD_binary_fuzzy_19_min_lag4', 'HOD_binary_fuzzy_20_min_lag4', 'HOD_binary_fuzzy_21_min_lag4', 'HOD_binary_fuzzy_22_min_lag4', 'HOD_binary_fuzzy_23_min_lag4', 'HOD_binary_reg_0_min_lag3', 'HOD_binary_reg_1_min_lag3', 'HOD_binary_reg_2_min_lag3', 'HOD_binary_reg_3_min_lag3', 'HOD_binary_reg_4_min_lag3', 'HOD_binary_reg_5_min_lag3', 'HOD_binary_reg_6_min_lag3', 'HOD_binary_reg_7_min_lag3', 'HOD_binary_reg_8_min_lag3', 'HOD_binary_reg_9_min_lag3', 'HOD_binary_reg_10_min_lag3', 'HOD_binary_reg_11_min_lag3', 'HOD_binary_reg_12_min_lag3', 'HOD_binary_reg_13_min_lag3', 'HOD_binary_reg_14_min_lag3', 'HOD_binary_reg_15_min_lag3', 'HOD_binary_reg_16_min_lag3', 'HOD_binary_reg_17_min_lag3', 'HOD_binary_reg_18_min_lag3', 'HOD_binary_reg_19_min_lag3', 'HOD_binary_reg_20_min_lag3', 'HOD_binary_reg_21_min_lag3', 'HOD_binary_reg_22_min_lag3', 'HOD_binary_reg_23_min_lag3', 'HOD_binary_fuzzy_0_min_lag3', 'HOD_binary_fuzzy_1_min_lag3', 'HOD_binary_fuzzy_2_min_lag3', 'HOD_binary_fuzzy_3_min_lag3', 'HOD_binary_fuzzy_4_min_lag3', 'HOD_binary_fuzzy_5_min_lag3', 'HOD_binary_fuzzy_6_min_lag3', 'HOD_binary_fuzzy_7_min_lag3', 'HOD_binary_fuzzy_8_min_lag3', 'HOD_binary_fuzzy_9_min_lag3', 'HOD_binary_fuzzy_10_min_lag3', 'HOD_binary_fuzzy_11_min_lag3', 'HOD_binary_fuzzy_12_min_lag3', 'HOD_binary_fuzzy_13_min_lag3', 'HOD_binary_fuzzy_14_min_lag3', 'HOD_binary_fuzzy_15_min_lag3', 'HOD_binary_fuzzy_16_min_lag3', 'HOD_binary_fuzzy_17_min_lag3', 'HOD_binary_fuzzy_18_min_lag3', 'HOD_binary_fuzzy_19_min_lag3', 'HOD_binary_fuzzy_20_min_lag3', 'HOD_binary_fuzzy_21_min_lag3', 'HOD_binary_fuzzy_22_min_lag3', 'HOD_binary_fuzzy_23_min_lag3', 'HOD_binary_reg_0_min_lag2', 'HOD_binary_reg_1_min_lag2', 'HOD_binary_reg_2_min_lag2', 'HOD_binary_reg_3_min_lag2', 'HOD_binary_reg_4_min_lag2', 'HOD_binary_reg_5_min_lag2', 'HOD_binary_reg_6_min_lag2', 'HOD_binary_reg_7_min_lag2', 'HOD_binary_reg_8_min_lag2', 'HOD_binary_reg_9_min_lag2', 'HOD_binary_reg_10_min_lag2', 'HOD_binary_reg_11_min_lag2', 'HOD_binary_reg_12_min_lag2', 'HOD_binary_reg_13_min_lag2', 'HOD_binary_reg_14_min_lag2', 'HOD_binary_reg_15_min_lag2', 'HOD_binary_reg_16_min_lag2', 'HOD_binary_reg_17_min_lag2', 'HOD_binary_reg_18_min_lag2', 'HOD_binary_reg_19_min_lag2', 'HOD_binary_reg_20_min_lag2', 'HOD_binary_reg_21_min_lag2', 'HOD_binary_reg_22_min_lag2', 'HOD_binary_reg_23_min_lag2', 'HOD_binary_fuzzy_0_min_lag2', 'HOD_binary_fuzzy_1_min_lag2', 'HOD_binary_fuzzy_2_min_lag2', 'HOD_binary_fuzzy_3_min_lag2', 'HOD_binary_fuzzy_4_min_lag2', 'HOD_binary_fuzzy_5_min_lag2', 'HOD_binary_fuzzy_6_min_lag2', 'HOD_binary_fuzzy_7_min_lag2', 'HOD_binary_fuzzy_8_min_lag2', 'HOD_binary_fuzzy_9_min_lag2', 'HOD_binary_fuzzy_10_min_lag2', 'HOD_binary_fuzzy_11_min_lag2', 'HOD_binary_fuzzy_12_min_lag2', 'HOD_binary_fuzzy_13_min_lag2', 'HOD_binary_fuzzy_14_min_lag2', 'HOD_binary_fuzzy_15_min_lag2', 'HOD_binary_fuzzy_16_min_lag2', 'HOD_binary_fuzzy_17_min_lag2', 'HOD_binary_fuzzy_18_min_lag2', 'HOD_binary_fuzzy_19_min_lag2', 'HOD_binary_fuzzy_20_min_lag2', 'HOD_binary_fuzzy_21_min_lag2', 'HOD_binary_fuzzy_22_min_lag2', 'HOD_binary_fuzzy_23_min_lag2', 'HOD_binary_reg_0_min_lag1', 'HOD_binary_reg_1_min_lag1', 'HOD_binary_reg_2_min_lag1', 'HOD_binary_reg_3_min_lag1', 'HOD_binary_reg_4_min_lag1', 'HOD_binary_reg_5_min_lag1', 'HOD_binary_reg_6_min_lag1', 'HOD_binary_reg_7_min_lag1', 'HOD_binary_reg_8_min_lag1', 'HOD_binary_reg_9_min_lag1', 'HOD_binary_reg_10_min_lag1', 'HOD_binary_reg_11_min_lag1', 'HOD_binary_reg_12_min_lag1', 'HOD_binary_reg_13_min_lag1', 'HOD_binary_reg_14_min_lag1', 'HOD_binary_reg_15_min_lag1', 'HOD_binary_reg_16_min_lag1', 'HOD_binary_reg_17_min_lag1', 'HOD_binary_reg_18_min_lag1', 'HOD_binary_reg_19_min_lag1', 'HOD_binary_reg_20_min_lag1', 'HOD_binary_reg_21_min_lag1', 'HOD_binary_reg_22_min_lag1', 'HOD_binary_reg_23_min_lag1', 'HOD_binary_fuzzy_0_min_lag1', 'HOD_binary_fuzzy_1_min_lag1', 'HOD_binary_fuzzy_2_min_lag1', 'HOD_binary_fuzzy_3_min_lag1', 'HOD_binary_fuzzy_4_min_lag1', 'HOD_binary_fuzzy_5_min_lag1', 'HOD_binary_fuzzy_6_min_lag1', 'HOD_binary_fuzzy_7_min_lag1', 'HOD_binary_fuzzy_8_min_lag1', 'HOD_binary_fuzzy_9_min_lag1', 'HOD_binary_fuzzy_10_min_lag1', 'HOD_binary_fuzzy_11_min_lag1', 'HOD_binary_fuzzy_12_min_lag1', 'HOD_binary_fuzzy_13_min_lag1', 'HOD_binary_fuzzy_14_min_lag1', 'HOD_binary_fuzzy_15_min_lag1', 'HOD_binary_fuzzy_16_min_lag1', 'HOD_binary_fuzzy_17_min_lag1', 'HOD_binary_fuzzy_18_min_lag1', 'HOD_binary_fuzzy_19_min_lag1', 'HOD_binary_fuzzy_20_min_lag1', 'HOD_binary_fuzzy_21_min_lag1', 'HOD_binary_fuzzy_22_min_lag1', 'HOD_binary_fuzzy_23_min_lag1', 'HOD_binary_reg_0_min', 'HOD_binary_reg_1_min', 'HOD_binary_reg_2_min', 'HOD_binary_reg_3_min', 'HOD_binary_reg_4_min', 'HOD_binary_reg_5_min', 'HOD_binary_reg_6_min', 'HOD_binary_reg_7_min', 'HOD_binary_reg_8_min', 'HOD_binary_reg_9_min', 'HOD_binary_reg_10_min', 'HOD_binary_reg_11_min', 'HOD_binary_reg_12_min', 'HOD_binary_reg_13_min', 'HOD_binary_reg_14_min', 'HOD_binary_reg_15_min', 'HOD_binary_reg_16_min', 'HOD_binary_reg_17_min', 'HOD_binary_reg_18_min', 'HOD_binary_reg_19_min', 'HOD_binary_reg_20_min', 'HOD_binary_reg_21_min', 'HOD_binary_reg_22_min', 'HOD_binary_reg_23_min', 'HOD_binary_fuzzy_0_min', 'HOD_binary_fuzzy_1_min', 'HOD_binary_fuzzy_2_min', 'HOD_binary_fuzzy_3_min', 'HOD_binary_fuzzy_4_min', 'HOD_binary_fuzzy_5_min', 'HOD_binary_fuzzy_6_min', 'HOD_binary_fuzzy_7_min', 'HOD_binary_fuzzy_8_min', 'HOD_binary_fuzzy_9_min', 'HOD_binary_fuzzy_10_min', 'HOD_binary_fuzzy_11_min', 'HOD_binary_fuzzy_12_min', 'HOD_binary_fuzzy_13_min', 'HOD_binary_fuzzy_14_min', 'HOD_binary_fuzzy_15_min', 'HOD_binary_fuzzy_16_min', 'HOD_binary_fuzzy_17_min', 'HOD_binary_fuzzy_18_min', 'HOD_binary_fuzzy_19_min', 'HOD_binary_fuzzy_20_min', 'HOD_binary_fuzzy_21_min', 'HOD_binary_fuzzy_22_min', 'HOD_binary_fuzzy_23_min']\n",
      "data pre minmax False\n",
      "data post minmax True\n",
      "data cols with nans ['HOD_binary_reg_0_min_lag8', 'HOD_binary_reg_1_min_lag8', 'HOD_binary_reg_2_min_lag8', 'HOD_binary_reg_3_min_lag8', 'HOD_binary_reg_4_min_lag8', 'HOD_binary_reg_5_min_lag8', 'HOD_binary_reg_6_min_lag8', 'HOD_binary_reg_7_min_lag8', 'HOD_binary_reg_8_min_lag8', 'HOD_binary_reg_9_min_lag8', 'HOD_binary_reg_10_min_lag8', 'HOD_binary_reg_11_min_lag8', 'HOD_binary_reg_12_min_lag8', 'HOD_binary_reg_13_min_lag8', 'HOD_binary_reg_14_min_lag8', 'HOD_binary_reg_15_min_lag8', 'HOD_binary_reg_16_min_lag8', 'HOD_binary_reg_17_min_lag8', 'HOD_binary_reg_18_min_lag8', 'HOD_binary_reg_19_min_lag8', 'HOD_binary_reg_20_min_lag8', 'HOD_binary_reg_21_min_lag8', 'HOD_binary_reg_22_min_lag8', 'HOD_binary_reg_23_min_lag8', 'HOD_binary_fuzzy_0_min_lag8', 'HOD_binary_fuzzy_1_min_lag8', 'HOD_binary_fuzzy_2_min_lag8', 'HOD_binary_fuzzy_3_min_lag8', 'HOD_binary_fuzzy_4_min_lag8', 'HOD_binary_fuzzy_5_min_lag8', 'HOD_binary_fuzzy_6_min_lag8', 'HOD_binary_fuzzy_7_min_lag8', 'HOD_binary_fuzzy_8_min_lag8', 'HOD_binary_fuzzy_9_min_lag8', 'HOD_binary_fuzzy_10_min_lag8', 'HOD_binary_fuzzy_11_min_lag8', 'HOD_binary_fuzzy_12_min_lag8', 'HOD_binary_fuzzy_13_min_lag8', 'HOD_binary_fuzzy_14_min_lag8', 'HOD_binary_fuzzy_15_min_lag8', 'HOD_binary_fuzzy_16_min_lag8', 'HOD_binary_fuzzy_17_min_lag8', 'HOD_binary_fuzzy_18_min_lag8', 'HOD_binary_fuzzy_19_min_lag8', 'HOD_binary_fuzzy_20_min_lag8', 'HOD_binary_fuzzy_21_min_lag8', 'HOD_binary_fuzzy_22_min_lag8', 'HOD_binary_fuzzy_23_min_lag8', 'HOD_binary_reg_0_min_lag7', 'HOD_binary_reg_1_min_lag7', 'HOD_binary_reg_2_min_lag7', 'HOD_binary_reg_3_min_lag7', 'HOD_binary_reg_4_min_lag7', 'HOD_binary_reg_5_min_lag7', 'HOD_binary_reg_6_min_lag7', 'HOD_binary_reg_7_min_lag7', 'HOD_binary_reg_8_min_lag7', 'HOD_binary_reg_9_min_lag7', 'HOD_binary_reg_10_min_lag7', 'HOD_binary_reg_11_min_lag7', 'HOD_binary_reg_12_min_lag7', 'HOD_binary_reg_13_min_lag7', 'HOD_binary_reg_14_min_lag7', 'HOD_binary_reg_15_min_lag7', 'HOD_binary_reg_16_min_lag7', 'HOD_binary_reg_17_min_lag7', 'HOD_binary_reg_18_min_lag7', 'HOD_binary_reg_19_min_lag7', 'HOD_binary_reg_20_min_lag7', 'HOD_binary_reg_21_min_lag7', 'HOD_binary_reg_22_min_lag7', 'HOD_binary_reg_23_min_lag7', 'HOD_binary_fuzzy_0_min_lag7', 'HOD_binary_fuzzy_1_min_lag7', 'HOD_binary_fuzzy_2_min_lag7', 'HOD_binary_fuzzy_3_min_lag7', 'HOD_binary_fuzzy_4_min_lag7', 'HOD_binary_fuzzy_5_min_lag7', 'HOD_binary_fuzzy_6_min_lag7', 'HOD_binary_fuzzy_7_min_lag7', 'HOD_binary_fuzzy_8_min_lag7', 'HOD_binary_fuzzy_9_min_lag7', 'HOD_binary_fuzzy_10_min_lag7', 'HOD_binary_fuzzy_11_min_lag7', 'HOD_binary_fuzzy_12_min_lag7', 'HOD_binary_fuzzy_13_min_lag7', 'HOD_binary_fuzzy_14_min_lag7', 'HOD_binary_fuzzy_15_min_lag7', 'HOD_binary_fuzzy_16_min_lag7', 'HOD_binary_fuzzy_17_min_lag7', 'HOD_binary_fuzzy_18_min_lag7', 'HOD_binary_fuzzy_19_min_lag7', 'HOD_binary_fuzzy_20_min_lag7', 'HOD_binary_fuzzy_21_min_lag7', 'HOD_binary_fuzzy_22_min_lag7', 'HOD_binary_fuzzy_23_min_lag7', 'HOD_binary_reg_0_min_lag6', 'HOD_binary_reg_1_min_lag6', 'HOD_binary_reg_2_min_lag6', 'HOD_binary_reg_3_min_lag6', 'HOD_binary_reg_4_min_lag6', 'HOD_binary_reg_5_min_lag6', 'HOD_binary_reg_6_min_lag6', 'HOD_binary_reg_7_min_lag6', 'HOD_binary_reg_8_min_lag6', 'HOD_binary_reg_9_min_lag6', 'HOD_binary_reg_10_min_lag6', 'HOD_binary_reg_11_min_lag6', 'HOD_binary_reg_12_min_lag6', 'HOD_binary_reg_13_min_lag6', 'HOD_binary_reg_14_min_lag6', 'HOD_binary_reg_15_min_lag6', 'HOD_binary_reg_16_min_lag6', 'HOD_binary_reg_17_min_lag6', 'HOD_binary_reg_18_min_lag6', 'HOD_binary_reg_19_min_lag6', 'HOD_binary_reg_20_min_lag6', 'HOD_binary_reg_21_min_lag6', 'HOD_binary_reg_22_min_lag6', 'HOD_binary_reg_23_min_lag6', 'HOD_binary_fuzzy_0_min_lag6', 'HOD_binary_fuzzy_1_min_lag6', 'HOD_binary_fuzzy_2_min_lag6', 'HOD_binary_fuzzy_3_min_lag6', 'HOD_binary_fuzzy_4_min_lag6', 'HOD_binary_fuzzy_5_min_lag6', 'HOD_binary_fuzzy_6_min_lag6', 'HOD_binary_fuzzy_7_min_lag6', 'HOD_binary_fuzzy_8_min_lag6', 'HOD_binary_fuzzy_9_min_lag6', 'HOD_binary_fuzzy_10_min_lag6', 'HOD_binary_fuzzy_11_min_lag6', 'HOD_binary_fuzzy_12_min_lag6', 'HOD_binary_fuzzy_13_min_lag6', 'HOD_binary_fuzzy_14_min_lag6', 'HOD_binary_fuzzy_15_min_lag6', 'HOD_binary_fuzzy_16_min_lag6', 'HOD_binary_fuzzy_17_min_lag6', 'HOD_binary_fuzzy_18_min_lag6', 'HOD_binary_fuzzy_19_min_lag6', 'HOD_binary_fuzzy_20_min_lag6', 'HOD_binary_fuzzy_21_min_lag6', 'HOD_binary_fuzzy_22_min_lag6', 'HOD_binary_fuzzy_23_min_lag6', 'HOD_binary_reg_0_min_lag5', 'HOD_binary_reg_1_min_lag5', 'HOD_binary_reg_2_min_lag5', 'HOD_binary_reg_3_min_lag5', 'HOD_binary_reg_4_min_lag5', 'HOD_binary_reg_5_min_lag5', 'HOD_binary_reg_6_min_lag5', 'HOD_binary_reg_7_min_lag5', 'HOD_binary_reg_8_min_lag5', 'HOD_binary_reg_9_min_lag5', 'HOD_binary_reg_10_min_lag5', 'HOD_binary_reg_11_min_lag5', 'HOD_binary_reg_12_min_lag5', 'HOD_binary_reg_13_min_lag5', 'HOD_binary_reg_14_min_lag5', 'HOD_binary_reg_15_min_lag5', 'HOD_binary_reg_16_min_lag5', 'HOD_binary_reg_17_min_lag5', 'HOD_binary_reg_18_min_lag5', 'HOD_binary_reg_19_min_lag5', 'HOD_binary_reg_20_min_lag5', 'HOD_binary_reg_21_min_lag5', 'HOD_binary_reg_22_min_lag5', 'HOD_binary_reg_23_min_lag5', 'HOD_binary_fuzzy_0_min_lag5', 'HOD_binary_fuzzy_1_min_lag5', 'HOD_binary_fuzzy_2_min_lag5', 'HOD_binary_fuzzy_3_min_lag5', 'HOD_binary_fuzzy_4_min_lag5', 'HOD_binary_fuzzy_5_min_lag5', 'HOD_binary_fuzzy_6_min_lag5', 'HOD_binary_fuzzy_7_min_lag5', 'HOD_binary_fuzzy_8_min_lag5', 'HOD_binary_fuzzy_9_min_lag5', 'HOD_binary_fuzzy_10_min_lag5', 'HOD_binary_fuzzy_11_min_lag5', 'HOD_binary_fuzzy_12_min_lag5', 'HOD_binary_fuzzy_13_min_lag5', 'HOD_binary_fuzzy_14_min_lag5', 'HOD_binary_fuzzy_15_min_lag5', 'HOD_binary_fuzzy_16_min_lag5', 'HOD_binary_fuzzy_17_min_lag5', 'HOD_binary_fuzzy_18_min_lag5', 'HOD_binary_fuzzy_19_min_lag5', 'HOD_binary_fuzzy_20_min_lag5', 'HOD_binary_fuzzy_21_min_lag5', 'HOD_binary_fuzzy_22_min_lag5', 'HOD_binary_fuzzy_23_min_lag5', 'HOD_binary_reg_0_min_lag4', 'HOD_binary_reg_1_min_lag4', 'HOD_binary_reg_2_min_lag4', 'HOD_binary_reg_3_min_lag4', 'HOD_binary_reg_4_min_lag4', 'HOD_binary_reg_5_min_lag4', 'HOD_binary_reg_6_min_lag4', 'HOD_binary_reg_7_min_lag4', 'HOD_binary_reg_8_min_lag4', 'HOD_binary_reg_9_min_lag4', 'HOD_binary_reg_10_min_lag4', 'HOD_binary_reg_11_min_lag4', 'HOD_binary_reg_12_min_lag4', 'HOD_binary_reg_13_min_lag4', 'HOD_binary_reg_14_min_lag4', 'HOD_binary_reg_15_min_lag4', 'HOD_binary_reg_16_min_lag4', 'HOD_binary_reg_17_min_lag4', 'HOD_binary_reg_18_min_lag4', 'HOD_binary_reg_19_min_lag4', 'HOD_binary_reg_20_min_lag4', 'HOD_binary_reg_21_min_lag4', 'HOD_binary_reg_22_min_lag4', 'HOD_binary_reg_23_min_lag4', 'HOD_binary_fuzzy_0_min_lag4', 'HOD_binary_fuzzy_1_min_lag4', 'HOD_binary_fuzzy_2_min_lag4', 'HOD_binary_fuzzy_3_min_lag4', 'HOD_binary_fuzzy_4_min_lag4', 'HOD_binary_fuzzy_5_min_lag4', 'HOD_binary_fuzzy_6_min_lag4', 'HOD_binary_fuzzy_7_min_lag4', 'HOD_binary_fuzzy_8_min_lag4', 'HOD_binary_fuzzy_9_min_lag4', 'HOD_binary_fuzzy_10_min_lag4', 'HOD_binary_fuzzy_11_min_lag4', 'HOD_binary_fuzzy_12_min_lag4', 'HOD_binary_fuzzy_13_min_lag4', 'HOD_binary_fuzzy_14_min_lag4', 'HOD_binary_fuzzy_15_min_lag4', 'HOD_binary_fuzzy_16_min_lag4', 'HOD_binary_fuzzy_17_min_lag4', 'HOD_binary_fuzzy_18_min_lag4', 'HOD_binary_fuzzy_19_min_lag4', 'HOD_binary_fuzzy_20_min_lag4', 'HOD_binary_fuzzy_21_min_lag4', 'HOD_binary_fuzzy_22_min_lag4', 'HOD_binary_fuzzy_23_min_lag4', 'HOD_binary_reg_0_min_lag3', 'HOD_binary_reg_1_min_lag3', 'HOD_binary_reg_2_min_lag3', 'HOD_binary_reg_3_min_lag3', 'HOD_binary_reg_4_min_lag3', 'HOD_binary_reg_5_min_lag3', 'HOD_binary_reg_6_min_lag3', 'HOD_binary_reg_7_min_lag3', 'HOD_binary_reg_8_min_lag3', 'HOD_binary_reg_9_min_lag3', 'HOD_binary_reg_10_min_lag3', 'HOD_binary_reg_11_min_lag3', 'HOD_binary_reg_12_min_lag3', 'HOD_binary_reg_13_min_lag3', 'HOD_binary_reg_14_min_lag3', 'HOD_binary_reg_15_min_lag3', 'HOD_binary_reg_16_min_lag3', 'HOD_binary_reg_17_min_lag3', 'HOD_binary_reg_18_min_lag3', 'HOD_binary_reg_19_min_lag3', 'HOD_binary_reg_20_min_lag3', 'HOD_binary_reg_21_min_lag3', 'HOD_binary_reg_22_min_lag3', 'HOD_binary_reg_23_min_lag3', 'HOD_binary_fuzzy_0_min_lag3', 'HOD_binary_fuzzy_1_min_lag3', 'HOD_binary_fuzzy_2_min_lag3', 'HOD_binary_fuzzy_3_min_lag3', 'HOD_binary_fuzzy_4_min_lag3', 'HOD_binary_fuzzy_5_min_lag3', 'HOD_binary_fuzzy_6_min_lag3', 'HOD_binary_fuzzy_7_min_lag3', 'HOD_binary_fuzzy_8_min_lag3', 'HOD_binary_fuzzy_9_min_lag3', 'HOD_binary_fuzzy_10_min_lag3', 'HOD_binary_fuzzy_11_min_lag3', 'HOD_binary_fuzzy_12_min_lag3', 'HOD_binary_fuzzy_13_min_lag3', 'HOD_binary_fuzzy_14_min_lag3', 'HOD_binary_fuzzy_15_min_lag3', 'HOD_binary_fuzzy_16_min_lag3', 'HOD_binary_fuzzy_17_min_lag3', 'HOD_binary_fuzzy_18_min_lag3', 'HOD_binary_fuzzy_19_min_lag3', 'HOD_binary_fuzzy_20_min_lag3', 'HOD_binary_fuzzy_21_min_lag3', 'HOD_binary_fuzzy_22_min_lag3', 'HOD_binary_fuzzy_23_min_lag3', 'HOD_binary_reg_0_min_lag2', 'HOD_binary_reg_1_min_lag2', 'HOD_binary_reg_2_min_lag2', 'HOD_binary_reg_3_min_lag2', 'HOD_binary_reg_4_min_lag2', 'HOD_binary_reg_5_min_lag2', 'HOD_binary_reg_6_min_lag2', 'HOD_binary_reg_7_min_lag2', 'HOD_binary_reg_8_min_lag2', 'HOD_binary_reg_9_min_lag2', 'HOD_binary_reg_10_min_lag2', 'HOD_binary_reg_11_min_lag2', 'HOD_binary_reg_12_min_lag2', 'HOD_binary_reg_13_min_lag2', 'HOD_binary_reg_14_min_lag2', 'HOD_binary_reg_15_min_lag2', 'HOD_binary_reg_16_min_lag2', 'HOD_binary_reg_17_min_lag2', 'HOD_binary_reg_18_min_lag2', 'HOD_binary_reg_19_min_lag2', 'HOD_binary_reg_20_min_lag2', 'HOD_binary_reg_21_min_lag2', 'HOD_binary_reg_22_min_lag2', 'HOD_binary_reg_23_min_lag2', 'HOD_binary_fuzzy_0_min_lag2', 'HOD_binary_fuzzy_1_min_lag2', 'HOD_binary_fuzzy_2_min_lag2', 'HOD_binary_fuzzy_3_min_lag2', 'HOD_binary_fuzzy_4_min_lag2', 'HOD_binary_fuzzy_5_min_lag2', 'HOD_binary_fuzzy_6_min_lag2', 'HOD_binary_fuzzy_7_min_lag2', 'HOD_binary_fuzzy_8_min_lag2', 'HOD_binary_fuzzy_9_min_lag2', 'HOD_binary_fuzzy_10_min_lag2', 'HOD_binary_fuzzy_11_min_lag2', 'HOD_binary_fuzzy_12_min_lag2', 'HOD_binary_fuzzy_13_min_lag2', 'HOD_binary_fuzzy_14_min_lag2', 'HOD_binary_fuzzy_15_min_lag2', 'HOD_binary_fuzzy_16_min_lag2', 'HOD_binary_fuzzy_17_min_lag2', 'HOD_binary_fuzzy_18_min_lag2', 'HOD_binary_fuzzy_19_min_lag2', 'HOD_binary_fuzzy_20_min_lag2', 'HOD_binary_fuzzy_21_min_lag2', 'HOD_binary_fuzzy_22_min_lag2', 'HOD_binary_fuzzy_23_min_lag2', 'HOD_binary_reg_0_min_lag1', 'HOD_binary_reg_1_min_lag1', 'HOD_binary_reg_2_min_lag1', 'HOD_binary_reg_3_min_lag1', 'HOD_binary_reg_4_min_lag1', 'HOD_binary_reg_5_min_lag1', 'HOD_binary_reg_6_min_lag1', 'HOD_binary_reg_7_min_lag1', 'HOD_binary_reg_8_min_lag1', 'HOD_binary_reg_9_min_lag1', 'HOD_binary_reg_10_min_lag1', 'HOD_binary_reg_11_min_lag1', 'HOD_binary_reg_12_min_lag1', 'HOD_binary_reg_13_min_lag1', 'HOD_binary_reg_14_min_lag1', 'HOD_binary_reg_15_min_lag1', 'HOD_binary_reg_16_min_lag1', 'HOD_binary_reg_17_min_lag1', 'HOD_binary_reg_18_min_lag1', 'HOD_binary_reg_19_min_lag1', 'HOD_binary_reg_20_min_lag1', 'HOD_binary_reg_21_min_lag1', 'HOD_binary_reg_22_min_lag1', 'HOD_binary_reg_23_min_lag1', 'HOD_binary_fuzzy_0_min_lag1', 'HOD_binary_fuzzy_1_min_lag1', 'HOD_binary_fuzzy_2_min_lag1', 'HOD_binary_fuzzy_3_min_lag1', 'HOD_binary_fuzzy_4_min_lag1', 'HOD_binary_fuzzy_5_min_lag1', 'HOD_binary_fuzzy_6_min_lag1', 'HOD_binary_fuzzy_7_min_lag1', 'HOD_binary_fuzzy_8_min_lag1', 'HOD_binary_fuzzy_9_min_lag1', 'HOD_binary_fuzzy_10_min_lag1', 'HOD_binary_fuzzy_11_min_lag1', 'HOD_binary_fuzzy_12_min_lag1', 'HOD_binary_fuzzy_13_min_lag1', 'HOD_binary_fuzzy_14_min_lag1', 'HOD_binary_fuzzy_15_min_lag1', 'HOD_binary_fuzzy_16_min_lag1', 'HOD_binary_fuzzy_17_min_lag1', 'HOD_binary_fuzzy_18_min_lag1', 'HOD_binary_fuzzy_19_min_lag1', 'HOD_binary_fuzzy_20_min_lag1', 'HOD_binary_fuzzy_21_min_lag1', 'HOD_binary_fuzzy_22_min_lag1', 'HOD_binary_fuzzy_23_min_lag1', 'HOD_binary_reg_0_min', 'HOD_binary_reg_1_min', 'HOD_binary_reg_2_min', 'HOD_binary_reg_3_min', 'HOD_binary_reg_4_min', 'HOD_binary_reg_5_min', 'HOD_binary_reg_6_min', 'HOD_binary_reg_7_min', 'HOD_binary_reg_8_min', 'HOD_binary_reg_9_min', 'HOD_binary_reg_10_min', 'HOD_binary_reg_11_min', 'HOD_binary_reg_12_min', 'HOD_binary_reg_13_min', 'HOD_binary_reg_14_min', 'HOD_binary_reg_15_min', 'HOD_binary_reg_16_min', 'HOD_binary_reg_17_min', 'HOD_binary_reg_18_min', 'HOD_binary_reg_19_min', 'HOD_binary_reg_20_min', 'HOD_binary_reg_21_min', 'HOD_binary_reg_22_min', 'HOD_binary_reg_23_min', 'HOD_binary_fuzzy_0_min', 'HOD_binary_fuzzy_1_min', 'HOD_binary_fuzzy_2_min', 'HOD_binary_fuzzy_3_min', 'HOD_binary_fuzzy_4_min', 'HOD_binary_fuzzy_5_min', 'HOD_binary_fuzzy_6_min', 'HOD_binary_fuzzy_7_min', 'HOD_binary_fuzzy_8_min', 'HOD_binary_fuzzy_9_min', 'HOD_binary_fuzzy_10_min', 'HOD_binary_fuzzy_11_min', 'HOD_binary_fuzzy_12_min', 'HOD_binary_fuzzy_13_min', 'HOD_binary_fuzzy_14_min', 'HOD_binary_fuzzy_15_min', 'HOD_binary_fuzzy_16_min', 'HOD_binary_fuzzy_17_min', 'HOD_binary_fuzzy_18_min', 'HOD_binary_fuzzy_19_min', 'HOD_binary_fuzzy_20_min', 'HOD_binary_fuzzy_21_min', 'HOD_binary_fuzzy_22_min', 'HOD_binary_fuzzy_23_min']\n",
      "train_data.shape (4651, 1729)\n",
      "is nans in train_data True\n",
      "features is nan tensor(True)\n",
      "outputs is nan tensor(True)\n"
     ]
    },
    {
     "ename": "AssertionError",
     "evalue": "",
     "output_type": "error",
     "traceback": [
      "\u001b[0;31m---------------------------------------------------------------------------\u001b[0m",
      "\u001b[0;31mAssertionError\u001b[0m                            Traceback (most recent call last)",
      "Cell \u001b[0;32mIn[6], line 6\u001b[0m\n\u001b[1;32m      4\u001b[0m init_logging(local_results_dir\u001b[38;5;241m=\u001b[39mconfigs[\u001b[38;5;124m\"\u001b[39m\u001b[38;5;124mdata_output\u001b[39m\u001b[38;5;124m\"\u001b[39m][\u001b[38;5;124m\"\u001b[39m\u001b[38;5;124mexp_dir\u001b[39m\u001b[38;5;124m\"\u001b[39m])\n\u001b[1;32m      5\u001b[0m model \u001b[38;5;241m=\u001b[39m ModelFactory\u001b[38;5;241m.\u001b[39mcreate_model(configs)\n\u001b[0;32m----> 6\u001b[0m \u001b[43mmodel\u001b[49m\u001b[38;5;241;43m.\u001b[39;49m\u001b[43mtrain\u001b[49m\u001b[43m(\u001b[49m\u001b[43mtrain_df\u001b[49m\u001b[43m,\u001b[49m\u001b[43m \u001b[49m\u001b[43mval_df\u001b[49m\u001b[43m)\u001b[49m\n",
      "File \u001b[0;32m~/Code/@ic/Wattile/wattile/models/base_model.py:180\u001b[0m, in \u001b[0;36mBaseModel.train\u001b[0;34m(self, train_df, val_df)\u001b[0m\n\u001b[1;32m    177\u001b[0m train_loader \u001b[38;5;241m=\u001b[39m \u001b[38;5;28mself\u001b[39m\u001b[38;5;241m.\u001b[39mto_data_loader(train_data, train_batch_size, shuffle\u001b[38;5;241m=\u001b[39m\u001b[38;5;28;01mTrue\u001b[39;00m)\n\u001b[1;32m    178\u001b[0m val_loader \u001b[38;5;241m=\u001b[39m \u001b[38;5;28mself\u001b[39m\u001b[38;5;241m.\u001b[39mto_data_loader(val_data, val_batch_size, shuffle\u001b[38;5;241m=\u001b[39m\u001b[38;5;28;01mTrue\u001b[39;00m)\n\u001b[0;32m--> 180\u001b[0m \u001b[38;5;28;43mself\u001b[39;49m\u001b[38;5;241;43m.\u001b[39;49m\u001b[43mrun_training\u001b[49m\u001b[43m(\u001b[49m\u001b[43mtrain_loader\u001b[49m\u001b[43m,\u001b[49m\u001b[43m \u001b[49m\u001b[43mval_loader\u001b[49m\u001b[43m,\u001b[49m\u001b[43m \u001b[49m\u001b[43mval_df\u001b[49m\u001b[43m)\u001b[49m\n\u001b[1;32m    181\u001b[0m \u001b[38;5;28mself\u001b[39m\u001b[38;5;241m.\u001b[39mwrite_metadata()\n\u001b[1;32m    183\u001b[0m \u001b[38;5;66;03m# Create visualization\u001b[39;00m\n",
      "File \u001b[0;32m~/Code/@ic/Wattile/wattile/models/alfa_model.py:491\u001b[0m, in \u001b[0;36mAlfaModel.run_training\u001b[0;34m(self, train_loader, val_loader, val_df)\u001b[0m\n\u001b[1;32m    488\u001b[0m outputs \u001b[38;5;241m=\u001b[39m model(features)\n\u001b[1;32m    489\u001b[0m \u001b[38;5;28mprint\u001b[39m(\u001b[38;5;124m\"\u001b[39m\u001b[38;5;124moutputs is nan\u001b[39m\u001b[38;5;124m\"\u001b[39m, outputs\u001b[38;5;241m.\u001b[39misnan()\u001b[38;5;241m.\u001b[39many())\n\u001b[0;32m--> 491\u001b[0m \u001b[38;5;28;01massert\u001b[39;00m \u001b[38;5;129;01mnot\u001b[39;00m features\u001b[38;5;241m.\u001b[39misnan()\u001b[38;5;241m.\u001b[39many()\n\u001b[1;32m    492\u001b[0m \u001b[38;5;28;01massert\u001b[39;00m \u001b[38;5;129;01mnot\u001b[39;00m outputs\u001b[38;5;241m.\u001b[39misnan()\u001b[38;5;241m.\u001b[39many()\n\u001b[1;32m    493\u001b[0m params_contains_nan \u001b[38;5;241m=\u001b[39m torch\u001b[38;5;241m.\u001b[39mstack(\n\u001b[1;32m    494\u001b[0m     [torch\u001b[38;5;241m.\u001b[39misnan(p)\u001b[38;5;241m.\u001b[39many() \u001b[38;5;28;01mfor\u001b[39;00m p \u001b[38;5;129;01min\u001b[39;00m model\u001b[38;5;241m.\u001b[39mparameters()]\n\u001b[1;32m    495\u001b[0m )\u001b[38;5;241m.\u001b[39many()\n",
      "\u001b[0;31mAssertionError\u001b[0m: "
     ]
    }
   ],
   "source": [
    "# \"\"\"\n",
    "# Finally, we are ready to train our model!\n",
    "# \"\"\"\n",
    "init_logging(local_results_dir=configs[\"data_output\"][\"exp_dir\"])\n",
    "model = ModelFactory.create_model(configs)\n",
    "model.train(train_df, val_df)"
   ]
  },
  {
   "cell_type": "code",
   "execution_count": null,
   "id": "68e46dcc",
   "metadata": {},
   "outputs": [
    {
     "data": {
      "text/plain": [
       "'\\nSee /Users/jsmith2/Code/@ic/Wattile_examples/notebooks/examples/exp_dir for the results.\\n'"
      ]
     },
     "execution_count": 6,
     "metadata": {},
     "output_type": "execute_result"
    }
   ],
   "source": [
    "f\"\"\"\n",
    "See {exp_dir} for the results.\n",
    "\"\"\""
   ]
  },
  {
   "cell_type": "code",
   "execution_count": null,
   "id": "cf7b0761",
   "metadata": {},
   "outputs": [],
   "source": []
  }
 ],
 "metadata": {
  "kernelspec": {
   "display_name": "Python 3 (ipykernel)",
   "language": "python",
   "name": "python3"
  },
  "language_info": {
   "codemirror_mode": {
    "name": "ipython",
    "version": 3
   },
   "file_extension": ".py",
   "mimetype": "text/x-python",
   "name": "python",
   "nbconvert_exporter": "python",
   "pygments_lexer": "ipython3",
   "version": "3.12.4"
  },
  "vscode": {
   "interpreter": {
    "hash": "050b4ce936b11791d7b8f3e010d2bda88e07dbd3a9996e3c82dc775bc9b4401b"
   }
  }
 },
 "nbformat": 4,
 "nbformat_minor": 5
}

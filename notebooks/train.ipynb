{
 "cells": [
  {
   "cell_type": "markdown",
   "id": "a2258a8a",
   "metadata": {},
   "source": [
    "# Example Notebook"
   ]
  },
  {
   "cell_type": "code",
   "execution_count": 1,
   "id": "4866f6da",
   "metadata": {},
   "outputs": [
    {
     "name": "stdout",
     "output_type": "stream",
     "text": [
      "PROJECT_DIRECTORY = /Users/jsmith2/Code/@ic/Wattile/wattile\n",
      "/Users/jsmith2/Code/@ic/Wattile_examples\n"
     ]
    }
   ],
   "source": [
    "import json\n",
    "from pathlib import Path\n",
    "import shutil\n",
    "\n",
    "from wattile.entry_point import init_logging\n",
    "from wattile.data_reading import read_dataset_from_file\n",
    "from wattile.data_processing import prep_for_rnn\n",
    "from wattile.models import ModelFactory\n",
    "\n",
    "\n",
    "PROJECT_DIRECTORY = Path().resolve().parent\n",
    "print(PROJECT_DIRECTORY)"
   ]
  },
  {
   "cell_type": "code",
   "execution_count": 2,
   "id": "8c6e3b38",
   "metadata": {},
   "outputs": [
    {
     "data": {
      "text/plain": [
       "{'data_input': {'data_dir': '/Users/jsmith2/Code/@ic/Wattile_examples/data/Headquarters',\n",
       "  'data_config': 'Headquarters Config.json',\n",
       "  'start_time': '2022-07-01T00:00:00-06:00',\n",
       "  'end_time': '2024-07-02T00:00:00-06:00',\n",
       "  'predictor_columns': ['Richmond, VA Humidity', 'Richmond, VA Temp'],\n",
       "  'target_var': 'Headquarters ElecMeter-Main kW'},\n",
       " 'data_output': {'exp_dir': '/Users/jsmith2/Code/@ic/Wattile_examples/notebooks/examples/exp_dir',\n",
       "  'plot_comparison': True,\n",
       "  'plot_comparison_portion_start': 0.0,\n",
       "  'plot_comparison_portion_end': 1.0},\n",
       " 'data_processing': {'feat_time': {'month_of_year': ['sincos'],\n",
       "   'day_of_week': ['binary_reg', 'binary_fuzzy'],\n",
       "   'hour_of_day': ['sincos', 'binary_reg', 'binary_fuzzy'],\n",
       "   'holidays': False},\n",
       "  'resample': {'bin_interval': '60min',\n",
       "   'bin_closed': 'left',\n",
       "   'bin_label': 'left'},\n",
       "  'feat_stats': {'active': True, 'window_width': '60min'},\n",
       "  'feat_timelag': {'lag_interval': '60min', 'lag_count': 24},\n",
       "  'input_output_window': {'window_width_source': '180min',\n",
       "   'window_width_futurecast': '0min',\n",
       "   'window_width_target': '45min'},\n",
       "  'random_seed': 382,\n",
       "  'sequential_splicer': {'active': False, 'window_width': '1W'},\n",
       "  'data_split': '80:20:0',\n",
       "  'train_size_factor': 1},\n",
       " 'learning_algorithm': {'arch_type': 'RNN',\n",
       "  'arch_version': 'alfa',\n",
       "  'arch_type_variant': 'lstm',\n",
       "  'use_case': 'train',\n",
       "  'num_epochs': 100,\n",
       "  'hidden_size': 25,\n",
       "  'num_layers': 1,\n",
       "  'quantiles': [0.05, 0.25, 0.5, 0.75, 0.95],\n",
       "  'transformation_method': 'minmaxscale',\n",
       "  'train_batch_size': 26,\n",
       "  'val_batch_size': 1,\n",
       "  'run_resume': False,\n",
       "  'optimizer_config': {'weight_decay': 0.001,\n",
       "   'base': 0.001,\n",
       "   'schedule': False,\n",
       "   'type': 'performance',\n",
       "   'factor': 0.1,\n",
       "   'min': 1e-05,\n",
       "   'patience': 30,\n",
       "   'step_size': 75},\n",
       "  'smoothing_alpha': 0.001,\n",
       "  'eval_frequency': 500,\n",
       "  'test_method': 'external'},\n",
       " 'model_registry': {'log': False,\n",
       "  'endpoint': 'http://localhost:5000',\n",
       "  'experiment_name': 'Headquarters',\n",
       "  'run_name': 'Headquarters Model Run',\n",
       "  'run_description': 'SkySpark Headquarters - Wattile example Model Run',\n",
       "  'run_tags': {'type': 'example', 'bulding': 'Headquarters'}}}"
      ]
     },
     "execution_count": 2,
     "metadata": {},
     "output_type": "execute_result"
    }
   ],
   "source": [
    "\"\"\"\n",
    "For this example, we will be using the default configs.\n",
    "Check out the docs for an explaination of each config.\n",
    "\"\"\"\n",
    "with open(PROJECT_DIRECTORY / \"data\" / \"configs\" / \"configs.json\", \"r\") as f:\n",
    "    configs = json.load(f)\n",
    "\n",
    "exp_dir = PROJECT_DIRECTORY / \"notebooks\" /  \"examples\" / \"exp_dir\"\n",
    "if exp_dir.exists():\n",
    "    shutil.rmtree(exp_dir)\n",
    "exp_dir.mkdir()\n",
    "\n",
    "configs[\"data_output\"][\"exp_dir\"] = str(exp_dir)\n",
    "configs[\"data_input\"][\"data_dir\"] = str(PROJECT_DIRECTORY / \"data\" / \"Headquarters\")\n",
    "\n",
    "configs"
   ]
  },
  {
   "cell_type": "code",
   "execution_count": 3,
   "id": "7ebc7130",
   "metadata": {},
   "outputs": [
    {
     "name": "stderr",
     "output_type": "stream",
     "text": [
      "/Users/jsmith2/Code/@ic/Wattile/wattile/data_reading.py:48: FutureWarning: In a future version of pandas all arguments of StringMethods.split except for the argument 'pat' will be keyword-only.\n",
      "  full_data[\"Timestamp\"] = full_data[\"Timestamp\"].str.split(\" \", 1).str[0]\n",
      "/Users/jsmith2/Code/@ic/Wattile/wattile/data_reading.py:48: FutureWarning: In a future version of pandas all arguments of StringMethods.split except for the argument 'pat' will be keyword-only.\n",
      "  full_data[\"Timestamp\"] = full_data[\"Timestamp\"].str.split(\" \", 1).str[0]\n"
     ]
    },
    {
     "data": {
      "text/html": [
       "<div>\n",
       "<style scoped>\n",
       "    .dataframe tbody tr th:only-of-type {\n",
       "        vertical-align: middle;\n",
       "    }\n",
       "\n",
       "    .dataframe tbody tr th {\n",
       "        vertical-align: top;\n",
       "    }\n",
       "\n",
       "    .dataframe thead th {\n",
       "        text-align: right;\n",
       "    }\n",
       "</style>\n",
       "<table border=\"1\" class=\"dataframe\">\n",
       "  <thead>\n",
       "    <tr style=\"text-align: right;\">\n",
       "      <th></th>\n",
       "      <th>Richmond, VA Humidity</th>\n",
       "      <th>Richmond, VA Temp</th>\n",
       "      <th>Headquarters ElecMeter-Main kW</th>\n",
       "    </tr>\n",
       "    <tr>\n",
       "      <th>Timestamp</th>\n",
       "      <th></th>\n",
       "      <th></th>\n",
       "      <th></th>\n",
       "    </tr>\n",
       "  </thead>\n",
       "  <tbody>\n",
       "    <tr>\n",
       "      <th>2022-07-01 06:00:00+00:00</th>\n",
       "      <td>66.0</td>\n",
       "      <td>80.0</td>\n",
       "      <td>111.0</td>\n",
       "    </tr>\n",
       "    <tr>\n",
       "      <th>2022-07-01 09:00:00+00:00</th>\n",
       "      <td>71.0</td>\n",
       "      <td>77.0</td>\n",
       "      <td>106.0</td>\n",
       "    </tr>\n",
       "    <tr>\n",
       "      <th>2022-07-01 12:00:00+00:00</th>\n",
       "      <td>67.0</td>\n",
       "      <td>80.0</td>\n",
       "      <td>187.0</td>\n",
       "    </tr>\n",
       "    <tr>\n",
       "      <th>2022-07-01 15:00:00+00:00</th>\n",
       "      <td>50.0</td>\n",
       "      <td>89.0</td>\n",
       "      <td>468.0</td>\n",
       "    </tr>\n",
       "    <tr>\n",
       "      <th>2022-07-01 18:00:00+00:00</th>\n",
       "      <td>37.0</td>\n",
       "      <td>95.0</td>\n",
       "      <td>592.0</td>\n",
       "    </tr>\n",
       "    <tr>\n",
       "      <th>...</th>\n",
       "      <td>...</td>\n",
       "      <td>...</td>\n",
       "      <td>...</td>\n",
       "    </tr>\n",
       "    <tr>\n",
       "      <th>2024-07-01 02:30:00+00:00</th>\n",
       "      <td>NaN</td>\n",
       "      <td>NaN</td>\n",
       "      <td>151.0</td>\n",
       "    </tr>\n",
       "    <tr>\n",
       "      <th>2024-07-01 02:45:00+00:00</th>\n",
       "      <td>NaN</td>\n",
       "      <td>NaN</td>\n",
       "      <td>136.0</td>\n",
       "    </tr>\n",
       "    <tr>\n",
       "      <th>2024-07-01 03:15:00+00:00</th>\n",
       "      <td>NaN</td>\n",
       "      <td>NaN</td>\n",
       "      <td>140.0</td>\n",
       "    </tr>\n",
       "    <tr>\n",
       "      <th>2024-07-01 03:30:00+00:00</th>\n",
       "      <td>NaN</td>\n",
       "      <td>NaN</td>\n",
       "      <td>190.0</td>\n",
       "    </tr>\n",
       "    <tr>\n",
       "      <th>2024-07-01 03:45:00+00:00</th>\n",
       "      <td>NaN</td>\n",
       "      <td>NaN</td>\n",
       "      <td>144.0</td>\n",
       "    </tr>\n",
       "  </tbody>\n",
       "</table>\n",
       "<p>70170 rows × 3 columns</p>\n",
       "</div>"
      ],
      "text/plain": [
       "                           Richmond, VA Humidity  Richmond, VA Temp  \\\n",
       "Timestamp                                                             \n",
       "2022-07-01 06:00:00+00:00                   66.0               80.0   \n",
       "2022-07-01 09:00:00+00:00                   71.0               77.0   \n",
       "2022-07-01 12:00:00+00:00                   67.0               80.0   \n",
       "2022-07-01 15:00:00+00:00                   50.0               89.0   \n",
       "2022-07-01 18:00:00+00:00                   37.0               95.0   \n",
       "...                                          ...                ...   \n",
       "2024-07-01 02:30:00+00:00                    NaN                NaN   \n",
       "2024-07-01 02:45:00+00:00                    NaN                NaN   \n",
       "2024-07-01 03:15:00+00:00                    NaN                NaN   \n",
       "2024-07-01 03:30:00+00:00                    NaN                NaN   \n",
       "2024-07-01 03:45:00+00:00                    NaN                NaN   \n",
       "\n",
       "                           Headquarters ElecMeter-Main kW  \n",
       "Timestamp                                                  \n",
       "2022-07-01 06:00:00+00:00                           111.0  \n",
       "2022-07-01 09:00:00+00:00                           106.0  \n",
       "2022-07-01 12:00:00+00:00                           187.0  \n",
       "2022-07-01 15:00:00+00:00                           468.0  \n",
       "2022-07-01 18:00:00+00:00                           592.0  \n",
       "...                                                   ...  \n",
       "2024-07-01 02:30:00+00:00                           151.0  \n",
       "2024-07-01 02:45:00+00:00                           136.0  \n",
       "2024-07-01 03:15:00+00:00                           140.0  \n",
       "2024-07-01 03:30:00+00:00                           190.0  \n",
       "2024-07-01 03:45:00+00:00                           144.0  \n",
       "\n",
       "[70170 rows x 3 columns]"
      ]
     },
     "execution_count": 3,
     "metadata": {},
     "output_type": "execute_result"
    }
   ],
   "source": [
    "\"\"\"\n",
    "Firstly, we will read the raw data from the dataset.\n",
    "Checkout the docs for an indepth explaination of necessary dataset structure.\n",
    "\"\"\"\n",
    "data = read_dataset_from_file(configs)\n",
    "data\n"
   ]
  },
  {
   "cell_type": "code",
   "execution_count": 4,
   "id": "21a0275c",
   "metadata": {},
   "outputs": [
    {
     "data": {
      "text/html": [
       "<div>\n",
       "<style scoped>\n",
       "    .dataframe tbody tr th:only-of-type {\n",
       "        vertical-align: middle;\n",
       "    }\n",
       "\n",
       "    .dataframe tbody tr th {\n",
       "        vertical-align: top;\n",
       "    }\n",
       "\n",
       "    .dataframe thead th {\n",
       "        text-align: right;\n",
       "    }\n",
       "</style>\n",
       "<table border=\"1\" class=\"dataframe\">\n",
       "  <thead>\n",
       "    <tr style=\"text-align: right;\">\n",
       "      <th></th>\n",
       "      <th>Richmond, VA Humidity_min_lag24</th>\n",
       "      <th>Richmond, VA Temp_min_lag24</th>\n",
       "      <th>sin_HOD_min_lag24</th>\n",
       "      <th>cos_HOD_min_lag24</th>\n",
       "      <th>HOD_binary_reg_0_min_lag24</th>\n",
       "      <th>HOD_binary_reg_1_min_lag24</th>\n",
       "      <th>HOD_binary_reg_2_min_lag24</th>\n",
       "      <th>HOD_binary_reg_3_min_lag24</th>\n",
       "      <th>HOD_binary_reg_4_min_lag24</th>\n",
       "      <th>HOD_binary_reg_5_min_lag24</th>\n",
       "      <th>...</th>\n",
       "      <th>DOW_binary_fuzzy_0_mean</th>\n",
       "      <th>DOW_binary_fuzzy_1_mean</th>\n",
       "      <th>DOW_binary_fuzzy_2_mean</th>\n",
       "      <th>DOW_binary_fuzzy_3_mean</th>\n",
       "      <th>DOW_binary_fuzzy_4_mean</th>\n",
       "      <th>DOW_binary_fuzzy_5_mean</th>\n",
       "      <th>DOW_binary_fuzzy_6_mean</th>\n",
       "      <th>sin_MOY_mean</th>\n",
       "      <th>cos_MOY_mean</th>\n",
       "      <th>Headquarters ElecMeter-Main kW</th>\n",
       "    </tr>\n",
       "  </thead>\n",
       "  <tbody>\n",
       "  </tbody>\n",
       "</table>\n",
       "<p>0 rows × 5101 columns</p>\n",
       "</div>"
      ],
      "text/plain": [
       "Empty DataFrame\n",
       "Columns: [Richmond, VA Humidity_min_lag24, Richmond, VA Temp_min_lag24, sin_HOD_min_lag24, cos_HOD_min_lag24, HOD_binary_reg_0_min_lag24, HOD_binary_reg_1_min_lag24, HOD_binary_reg_2_min_lag24, HOD_binary_reg_3_min_lag24, HOD_binary_reg_4_min_lag24, HOD_binary_reg_5_min_lag24, HOD_binary_reg_6_min_lag24, HOD_binary_reg_7_min_lag24, HOD_binary_reg_8_min_lag24, HOD_binary_reg_9_min_lag24, HOD_binary_reg_10_min_lag24, HOD_binary_reg_11_min_lag24, HOD_binary_reg_12_min_lag24, HOD_binary_reg_13_min_lag24, HOD_binary_reg_14_min_lag24, HOD_binary_reg_15_min_lag24, HOD_binary_reg_16_min_lag24, HOD_binary_reg_17_min_lag24, HOD_binary_reg_18_min_lag24, HOD_binary_reg_19_min_lag24, HOD_binary_reg_20_min_lag24, HOD_binary_reg_21_min_lag24, HOD_binary_reg_22_min_lag24, HOD_binary_reg_23_min_lag24, HOD_binary_fuzzy_0_min_lag24, HOD_binary_fuzzy_1_min_lag24, HOD_binary_fuzzy_2_min_lag24, HOD_binary_fuzzy_3_min_lag24, HOD_binary_fuzzy_4_min_lag24, HOD_binary_fuzzy_5_min_lag24, HOD_binary_fuzzy_6_min_lag24, HOD_binary_fuzzy_7_min_lag24, HOD_binary_fuzzy_8_min_lag24, HOD_binary_fuzzy_9_min_lag24, HOD_binary_fuzzy_10_min_lag24, HOD_binary_fuzzy_11_min_lag24, HOD_binary_fuzzy_12_min_lag24, HOD_binary_fuzzy_13_min_lag24, HOD_binary_fuzzy_14_min_lag24, HOD_binary_fuzzy_15_min_lag24, HOD_binary_fuzzy_16_min_lag24, HOD_binary_fuzzy_17_min_lag24, HOD_binary_fuzzy_18_min_lag24, HOD_binary_fuzzy_19_min_lag24, HOD_binary_fuzzy_20_min_lag24, HOD_binary_fuzzy_21_min_lag24, HOD_binary_fuzzy_22_min_lag24, HOD_binary_fuzzy_23_min_lag24, DOW_binary_reg_0_min_lag24, DOW_binary_reg_1_min_lag24, DOW_binary_reg_2_min_lag24, DOW_binary_reg_3_min_lag24, DOW_binary_reg_4_min_lag24, DOW_binary_reg_5_min_lag24, DOW_binary_reg_6_min_lag24, DOW_binary_fuzzy_0_min_lag24, DOW_binary_fuzzy_1_min_lag24, DOW_binary_fuzzy_2_min_lag24, DOW_binary_fuzzy_3_min_lag24, DOW_binary_fuzzy_4_min_lag24, DOW_binary_fuzzy_5_min_lag24, DOW_binary_fuzzy_6_min_lag24, sin_MOY_min_lag24, cos_MOY_min_lag24, Richmond, VA Humidity_max_lag24, Richmond, VA Temp_max_lag24, sin_HOD_max_lag24, cos_HOD_max_lag24, HOD_binary_reg_0_max_lag24, HOD_binary_reg_1_max_lag24, HOD_binary_reg_2_max_lag24, HOD_binary_reg_3_max_lag24, HOD_binary_reg_4_max_lag24, HOD_binary_reg_5_max_lag24, HOD_binary_reg_6_max_lag24, HOD_binary_reg_7_max_lag24, HOD_binary_reg_8_max_lag24, HOD_binary_reg_9_max_lag24, HOD_binary_reg_10_max_lag24, HOD_binary_reg_11_max_lag24, HOD_binary_reg_12_max_lag24, HOD_binary_reg_13_max_lag24, HOD_binary_reg_14_max_lag24, HOD_binary_reg_15_max_lag24, HOD_binary_reg_16_max_lag24, HOD_binary_reg_17_max_lag24, HOD_binary_reg_18_max_lag24, HOD_binary_reg_19_max_lag24, HOD_binary_reg_20_max_lag24, HOD_binary_reg_21_max_lag24, HOD_binary_reg_22_max_lag24, HOD_binary_reg_23_max_lag24, HOD_binary_fuzzy_0_max_lag24, HOD_binary_fuzzy_1_max_lag24, HOD_binary_fuzzy_2_max_lag24, HOD_binary_fuzzy_3_max_lag24, ...]\n",
       "Index: []\n",
       "\n",
       "[0 rows x 5101 columns]"
      ]
     },
     "execution_count": 4,
     "metadata": {},
     "output_type": "execute_result"
    }
   ],
   "source": [
    "\"\"\"\n",
    "Next, we call `prep_for_rnn` do preform some data preprocessing.\n",
    "\"\"\"\n",
    "train_df, val_df = prep_for_rnn(configs, data)\n",
    "train_df"
   ]
  },
  {
   "cell_type": "code",
   "execution_count": 5,
   "id": "58b32119",
   "metadata": {},
   "outputs": [],
   "source": [
    "# \"\"\"\n",
    "# Finally, we are ready to train our model!\n",
    "# \"\"\"\n",
    "# init_logging(local_results_dir=configs[\"data_output\"][\"exp_dir\"])\n",
    "# model = ModelFactory.create_model(configs)\n",
    "# model.train(train_df, val_df)"
   ]
  },
  {
   "cell_type": "code",
   "execution_count": 6,
   "id": "68e46dcc",
   "metadata": {},
   "outputs": [
    {
     "data": {
      "text/plain": [
       "'\\nSee /Users/jsmith2/Code/@ic/Wattile_examples/notebooks/examples/exp_dir for the results.\\n'"
      ]
     },
     "execution_count": 6,
     "metadata": {},
     "output_type": "execute_result"
    }
   ],
   "source": [
    "f\"\"\"\n",
    "See {exp_dir} for the results.\n",
    "\"\"\""
   ]
  },
  {
   "cell_type": "code",
   "execution_count": null,
   "id": "cf7b0761",
   "metadata": {},
   "outputs": [],
   "source": []
  }
 ],
 "metadata": {
  "kernelspec": {
   "display_name": "Python 3 (ipykernel)",
   "language": "python",
   "name": "python3"
  },
  "language_info": {
   "codemirror_mode": {
    "name": "ipython",
    "version": 3
   },
   "file_extension": ".py",
   "mimetype": "text/x-python",
   "name": "python",
   "nbconvert_exporter": "python",
   "pygments_lexer": "ipython3",
   "version": "3.9.13"
  },
  "vscode": {
   "interpreter": {
    "hash": "050b4ce936b11791d7b8f3e010d2bda88e07dbd3a9996e3c82dc775bc9b4401b"
   }
  }
 },
 "nbformat": 4,
 "nbformat_minor": 5
}
